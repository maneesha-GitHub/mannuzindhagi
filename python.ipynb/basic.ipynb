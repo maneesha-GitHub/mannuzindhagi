{
 "cells": [
  {
   "cell_type": "code",
   "execution_count": null,
   "metadata": {},
   "outputs": [],
   "source": []
  },
  {
   "cell_type": "code",
   "execution_count": 62,
   "metadata": {},
   "outputs": [
    {
     "name": "stdout",
     "output_type": "stream",
     "text": [
      "hello\n"
     ]
    }
   ],
   "source": [
    "#WAS TO PRINT \"Hello world\"\n",
    "s=\"hello\"\n",
    "print(s)"
   ]
  },
  {
   "cell_type": "code",
   "execution_count": 63,
   "metadata": {},
   "outputs": [
    {
     "name": "stdout",
     "output_type": "stream",
     "text": [
      "6\n",
      "[10, 20, 30]\n"
     ]
    }
   ],
   "source": [
    "#was to initilize the single and multiple value in single variable\n",
    "g=6\n",
    "print(g)\n",
    "h=[10,20,30]\n",
    "print(h)"
   ]
  },
  {
   "cell_type": "code",
   "execution_count": 64,
   "metadata": {},
   "outputs": [
    {
     "name": "stdout",
     "output_type": "stream",
     "text": [
      "150 120 250\n"
     ]
    }
   ],
   "source": [
    "#was to initialize multivariable values ae 150 , 120 , 250\n",
    "a,b,c = 150, 120 ,250\n",
    "print(a,b,c)\n"
   ]
  },
  {
   "cell_type": "code",
   "execution_count": 65,
   "metadata": {},
   "outputs": [
    {
     "name": "stdout",
     "output_type": "stream",
     "text": [
      "<class 'set'>\n"
     ]
    }
   ],
   "source": [
    "#types of data in given value \n",
    "a={23,43}\n",
    "print(type(a))\n"
   ]
  },
  {
   "cell_type": "code",
   "execution_count": 66,
   "metadata": {},
   "outputs": [
    {
     "name": "stdout",
     "output_type": "stream",
     "text": [
      "1903097701552\n"
     ]
    }
   ],
   "source": [
    "#was to print the address of the memory blok in given Value\n",
    "a=6835\n",
    "print(id(a))"
   ]
  },
  {
   "cell_type": "code",
   "execution_count": 67,
   "metadata": {},
   "outputs": [
    {
     "name": "stdout",
     "output_type": "stream",
     "text": [
      "manisha 21 8712316628 manishachilakapati@gmail.com 5.7\n"
     ]
    }
   ],
   "source": [
    "#print your details , and display it\n",
    "name = \"manisha\"\n",
    "age = 21\n",
    "phone = 8712316628\n",
    "email =\"manishachilakapati@gmail.com\"\n",
    "height = 5.7\n",
    "print(name , age , phone , email, height)"
   ]
  },
  {
   "cell_type": "code",
   "execution_count": 68,
   "metadata": {},
   "outputs": [
    {
     "name": "stdout",
     "output_type": "stream",
     "text": [
      "39\n",
      "10\n"
     ]
    }
   ],
   "source": [
    "#swaping the to varriables using 3rd temp element\n",
    "a= 10\n",
    "b=39\n",
    "\n",
    "temp = a\n",
    "a = b\n",
    "b = temp\n",
    "print(a)\n",
    "print(b) "
   ]
  },
  {
   "cell_type": "code",
   "execution_count": 69,
   "metadata": {},
   "outputs": [
    {
     "name": "stdout",
     "output_type": "stream",
     "text": [
      "(39, 68)\n",
      "[10, 20]\n"
     ]
    }
   ],
   "source": [
    "#swap the variables without using temp variables\n",
    "m = [10, 20]\n",
    "n = (39, 68)\n",
    "m , n = n , m\n",
    "print (m)\n",
    "print(n)"
   ]
  },
  {
   "cell_type": "code",
   "execution_count": 70,
   "metadata": {},
   "outputs": [
    {
     "name": "stdout",
     "output_type": "stream",
     "text": [
      "python\n",
      "java\n"
     ]
    }
   ],
   "source": [
    "#initializing a value\n",
    "a = {\"m\":\"python\"}\n",
    "print(a[\"m\"])\n",
    "a['m']= \"java\"\n",
    "print(a['m'])\n"
   ]
  },
  {
   "cell_type": "code",
   "execution_count": 71,
   "metadata": {},
   "outputs": [
    {
     "name": "stdout",
     "output_type": "stream",
     "text": [
      "[10, 20, 30]\n",
      "[10, 20, 30, 40, 50, 19]\n"
     ]
    }
   ],
   "source": [
    "#concatenation\n",
    "\n",
    "a = [10,20,30]\n",
    "print(a)\n",
    "a += [40,50,19]\n",
    "print(a)\n"
   ]
  },
  {
   "cell_type": "code",
   "execution_count": 72,
   "metadata": {},
   "outputs": [
    {
     "name": "stdout",
     "output_type": "stream",
     "text": [
      "10\n"
     ]
    },
    {
     "ename": "TypeError",
     "evalue": "'int' object is not iterable",
     "output_type": "error",
     "traceback": [
      "\u001b[1;31m---------------------------------------------------------------------------\u001b[0m",
      "\u001b[1;31mTypeError\u001b[0m                                 Traceback (most recent call last)",
      "Cell \u001b[1;32mIn[72], line 5\u001b[0m\n\u001b[0;32m      3\u001b[0m n \u001b[39m=\u001b[39m \u001b[39mstr\u001b[39m(a)\n\u001b[0;32m      4\u001b[0m \u001b[39mprint\u001b[39m(n)\n\u001b[1;32m----> 5\u001b[0m m \u001b[39m=\u001b[39m \u001b[39mlist\u001b[39;49m(a)\n\u001b[0;32m      6\u001b[0m \u001b[39mprint\u001b[39m(m)\n",
      "\u001b[1;31mTypeError\u001b[0m: 'int' object is not iterable"
     ]
    }
   ],
   "source": [
    "#convert single valuedata to multi value data \n",
    "a = 10\n",
    "n = str(a)\n",
    "print(n)\n",
    "m = list(a)\n",
    "print(m)\n",
    "\n",
    "\n",
    "\n"
   ]
  },
  {
   "cell_type": "code",
   "execution_count": null,
   "metadata": {},
   "outputs": [
    {
     "name": "stdout",
     "output_type": "stream",
     "text": [
      "helloworld\n",
      "[10, 20, 30, 12, 34, 21]\n",
      "(21, 13, 34, 43, 53, 2)\n",
      "{32, 4, 6, 87, 42}\n",
      "{'a': 12, 'b': 34, 'n': 75, 'm': 86}\n"
     ]
    }
   ],
   "source": [
    "#to concate two multi value data types \n",
    "#str\n",
    "x = \"hello\"\n",
    "x+= \"world\"\n",
    "print(x)\n",
    "#list\n",
    "y = [10 , 20 , 30 ]\n",
    "y+=[12 , 34 , 21]\n",
    "print(y)\n",
    "#tuple\n",
    "z = (21, 13 , 34)\n",
    "z +=(43 , 53 ,2 )\n",
    "print(z)\n",
    "m = {87 , 6 ,32}\n",
    "m|={32 ,42 ,4}\n",
    "print(m)\n",
    "n = {'a':12,'b':34}\n",
    "n|={\"n\":75,\"m\":86}\n",
    "print(n)\n",
    "\n",
    "\n",
    "\n"
   ]
  },
  {
   "cell_type": "code",
   "execution_count": null,
   "metadata": {},
   "outputs": [
    {
     "name": "stdout",
     "output_type": "stream",
     "text": [
      "5\n"
     ]
    },
    {
     "data": {
      "text/plain": [
       "4"
      ]
     },
     "execution_count": 28,
     "metadata": {},
     "output_type": "execute_result"
    }
   ],
   "source": [
    "#length of collection\n",
    "c = \"hello\"\n",
    "len(c)\n",
    "print(len(c))\n",
    "d=([13,53, \"\",13])\n",
    "len(d)"
   ]
  },
  {
   "cell_type": "code",
   "execution_count": null,
   "metadata": {},
   "outputs": [
    {
     "name": "stdout",
     "output_type": "stream",
     "text": [
      "21\n"
     ]
    }
   ],
   "source": [
    "#write a equaion to check a middle value of a collection\n",
    "d = [12,43,21,56,87]\n",
    "print(d[len(d)//2])"
   ]
  },
  {
   "cell_type": "code",
   "execution_count": null,
   "metadata": {},
   "outputs": [
    {
     "name": "stdout",
     "output_type": "stream",
     "text": [
      "this is a python class\n"
     ]
    }
   ],
   "source": [
    "#was to concate a new str to the starting of an existing str\n",
    "x = \"is a python class\"\n",
    "y =\"this \"\n",
    "z = y + x\n",
    "print(z )\n"
   ]
  },
  {
   "cell_type": "code",
   "execution_count": null,
   "metadata": {},
   "outputs": [
    {
     "name": "stdout",
     "output_type": "stream",
     "text": [
      "6\n",
      "this is python class\n"
     ]
    }
   ],
   "source": [
    "#was to cancate a new str to the middle of a xisting str\n",
    "x = \"this is class\"\n",
    "print(len(x)//2)\n",
    "y = x[0:7]+ \" python\" + x[7:]\n",
    "print(y)"
   ]
  },
  {
   "cell_type": "code",
   "execution_count": null,
   "metadata": {},
   "outputs": [
    {
     "name": "stdout",
     "output_type": "stream",
     "text": [
      "today is super holiday\n"
     ]
    }
   ],
   "source": [
    "#was to modify the new charecter into the middle of given str\n",
    "m = \"today is holiday\"\n",
    "n = m[0:len(m)//2] + \" super\" + m[len(m)//2:]\n",
    "print(n)"
   ]
  },
  {
   "cell_type": "code",
   "execution_count": null,
   "metadata": {},
   "outputs": [
    {
     "name": "stdout",
     "output_type": "stream",
     "text": [
      "luv u zindhagi\n"
     ]
    }
   ],
   "source": [
    "#was o modify the sequence of charecters in given ster\n",
    "s = \"luvuzindhagi\"\n",
    "p = s[0:3]+\" \"+s[3:4]+\" \"+s[4:]\n",
    "print(p)"
   ]
  },
  {
   "cell_type": "code",
   "execution_count": null,
   "metadata": {},
   "outputs": [
    {
     "name": "stdout",
     "output_type": "stream",
     "text": [
      "sadhuvukondifirst\n"
     ]
    }
   ],
   "source": [
    "#to delete specific char\n",
    "s = \"sadhuvukondiifirst\"\n",
    "p = s[0:11]+s[12:]\n",
    "print(p)"
   ]
  },
  {
   "cell_type": "code",
   "execution_count": null,
   "metadata": {},
   "outputs": [
    {
     "name": "stdout",
     "output_type": "stream",
     "text": [
      "[1, 2, 3, 'a', 'b']\n"
     ]
    }
   ],
   "source": [
    "#was to concate the new value into the list\n",
    "l = [1,2,3]\n",
    "l += [\"a\",\"b\"]\n",
    "print(l)"
   ]
  },
  {
   "cell_type": "code",
   "execution_count": null,
   "metadata": {},
   "outputs": [
    {
     "name": "stdout",
     "output_type": "stream",
     "text": [
      "{'a': 150, 'b': 75}\n"
     ]
    }
   ],
   "source": [
    "#concate the new key and value into the dict\n",
    "d={'a':150}\n",
    "d[\"b\"]=75 \n",
    "print(d)"
   ]
  },
  {
   "cell_type": "code",
   "execution_count": 88,
   "metadata": {},
   "outputs": [
    {
     "name": "stdout",
     "output_type": "stream",
     "text": [
      "{'a': 'hai', 'b': 700, 'd': 780}\n"
     ]
    }
   ],
   "source": [
    "d = {'a':\"hai\",'b':700,'c':500,'d':780}\n",
    "d['c']\n",
    "del d['c']\n",
    "print(d)\n"
   ]
  },
  {
   "cell_type": "code",
   "execution_count": 120,
   "metadata": {},
   "outputs": [
    {
     "name": "stdout",
     "output_type": "stream",
     "text": [
      "{'a': 'hai', 'b': 750}\n"
     ]
    }
   ],
   "source": [
    "#to delete the specific key and value in the given dict\n",
    "d ={'a':\"hai\" , 'b':750 , 'c': '500'}\n",
    "del d['c']\n",
    "print(d) "
   ]
  },
  {
   "cell_type": "code",
   "execution_count": null,
   "metadata": {},
   "outputs": [],
   "source": []
  },
  {
   "cell_type": "code",
   "execution_count": 87,
   "metadata": {},
   "outputs": [
    {
     "name": "stdout",
     "output_type": "stream",
     "text": [
      "{10: 156, 20: 'hai'}\n"
     ]
    }
   ],
   "source": [
    "#to modify the specific value in the given dict\n",
    "x={10:150,20:\"hai\"}\n",
    "x[10]=156\n",
    "print (x)"
   ]
  },
  {
   "cell_type": "code",
   "execution_count": 125,
   "metadata": {},
   "outputs": [
    {
     "name": "stdout",
     "output_type": "stream",
     "text": [
      "['a', 'b', 'c', 10, 20, 30]\n"
     ]
    }
   ],
   "source": [
    "#to concate the list  using type casting\n",
    "l=['a','b','c']\n",
    "t=(10,20,30)\n",
    "print(l+list(t))"
   ]
  },
  {
   "cell_type": "code",
   "execution_count": 129,
   "metadata": {},
   "outputs": [],
   "source": [
    "#to concate the list value and tuple value without using type casting\n",
    "l = ['a','b','c'] \n",
    "t=(32,54,2)\n",
    "l+=t"
   ]
  },
  {
   "cell_type": "code",
   "execution_count": 90,
   "metadata": {},
   "outputs": [
    {
     "name": "stdout",
     "output_type": "stream",
     "text": [
      "True\n"
     ]
    }
   ],
   "source": [
    "#to check the gven num is divisible by 3\n",
    "n=9\n",
    "print(n%3==0)"
   ]
  },
  {
   "cell_type": "code",
   "execution_count": 91,
   "metadata": {},
   "outputs": [
    {
     "name": "stdout",
     "output_type": "stream",
     "text": [
      "True\n"
     ]
    }
   ],
   "source": [
    "#to check the given numm is divisible by 2 and 6\n",
    "n=12\n",
    "print(n%2==0 and n%6==0)"
   ]
  },
  {
   "cell_type": "code",
   "execution_count": 92,
   "metadata": {},
   "outputs": [
    {
     "name": "stdout",
     "output_type": "stream",
     "text": [
      "2\n"
     ]
    },
    {
     "data": {
      "text/plain": [
       "False"
      ]
     },
     "execution_count": 92,
     "metadata": {},
     "output_type": "execute_result"
    }
   ],
   "source": [
    "#to check the last digit is divisible by 3 from the given int num \n",
    "n=1998\n",
    "print((n%10)%3)==0"
   ]
  },
  {
   "cell_type": "code",
   "execution_count": 130,
   "metadata": {},
   "outputs": [
    {
     "name": "stdout",
     "output_type": "stream",
     "text": [
      "2026\n"
     ]
    }
   ],
   "source": [
    "#to check the last digit is divisible 3 by type ccating\n",
    "n=2026\n",
    "int(str(n)[-1])%3==0\n",
    "print(n)"
   ]
  },
  {
   "cell_type": "code",
   "execution_count": 131,
   "metadata": {},
   "outputs": [
    {
     "name": "stdout",
     "output_type": "stream",
     "text": [
      "True\n"
     ]
    }
   ],
   "source": [
    "# to check the given num is greater than 150\n",
    "n = 187\n",
    "print(n>150)"
   ]
  },
  {
   "cell_type": "code",
   "execution_count": 132,
   "metadata": {},
   "outputs": [
    {
     "name": "stdout",
     "output_type": "stream",
     "text": [
      "False\n"
     ]
    }
   ],
   "source": [
    "#to check the given is greater or equal to 100\n",
    "n = 99\n",
    "print(n>=100)"
   ]
  },
  {
   "cell_type": "code",
   "execution_count": 133,
   "metadata": {},
   "outputs": [
    {
     "name": "stdout",
     "output_type": "stream",
     "text": [
      "True\n"
     ]
    }
   ],
   "source": [
    "#to check the given num is <150 \n",
    "n = 132\n",
    "print(n<150)"
   ]
  },
  {
   "cell_type": "code",
   "execution_count": 134,
   "metadata": {},
   "outputs": [
    {
     "name": "stdout",
     "output_type": "stream",
     "text": [
      "True\n"
     ]
    }
   ],
   "source": [
    "# to check the given num is <= 100\n",
    "n= 100\n",
    "print(n<=100)"
   ]
  },
  {
   "cell_type": "code",
   "execution_count": 135,
   "metadata": {},
   "outputs": [
    {
     "name": "stdout",
     "output_type": "stream",
     "text": [
      "False\n"
     ]
    }
   ],
   "source": [
    "#to check the given num is > 15 and < 24\n",
    "n=23 \n",
    "print(15<n>24)"
   ]
  },
  {
   "cell_type": "code",
   "execution_count": 136,
   "metadata": {},
   "outputs": [
    {
     "name": "stdout",
     "output_type": "stream",
     "text": [
      "False\n"
     ]
    }
   ],
   "source": [
    "#to check he given num is even\n",
    "n =23\n",
    "print(n%2==0)"
   ]
  },
  {
   "cell_type": "code",
   "execution_count": 137,
   "metadata": {},
   "outputs": [
    {
     "name": "stdout",
     "output_type": "stream",
     "text": [
      "True\n"
     ]
    }
   ],
   "source": [
    "#to check the given num is odd\n",
    "n = 13\n",
    "print(n%2!=0)"
   ]
  },
  {
   "cell_type": "code",
   "execution_count": 105,
   "metadata": {},
   "outputs": [
    {
     "name": "stdout",
     "output_type": "stream",
     "text": [
      "abcabcabcabcabcabc\n"
     ]
    }
   ],
   "source": [
    "#repclication of a given str 6 times\n",
    "s=\"abc\"\n",
    "print(s*6)"
   ]
  },
  {
   "cell_type": "code",
   "execution_count": 106,
   "metadata": {},
   "outputs": [
    {
     "name": "stdout",
     "output_type": "stream",
     "text": [
      "('a', 'b', None, 'a', 'b', None, 'a', 'b', None)\n"
     ]
    }
   ],
   "source": [
    "#replcation of a collection in 3 times\n",
    "t=('a','b',None)\n",
    "print(t*3)"
   ]
  },
  {
   "cell_type": "code",
   "execution_count": 143,
   "metadata": {},
   "outputs": [
    {
     "ename": "TypeError",
     "evalue": "not all arguments converted during string formatting",
     "output_type": "error",
     "traceback": [
      "\u001b[1;31m---------------------------------------------------------------------------\u001b[0m",
      "\u001b[1;31mTypeError\u001b[0m                                 Traceback (most recent call last)",
      "Cell \u001b[1;32mIn[143], line 3\u001b[0m\n\u001b[0;32m      1\u001b[0m \u001b[39m# to check the given str last cahr ascii value should be divisible by 5  or not\u001b[39;00m\n\u001b[0;32m      2\u001b[0m s\u001b[39m=\u001b[39m\u001b[39m\"\u001b[39m\u001b[39mapple\u001b[39m\u001b[39m\"\u001b[39m\n\u001b[1;32m----> 3\u001b[0m \u001b[39mord\u001b[39m(s[\u001b[39m-\u001b[39;49m\u001b[39m1\u001b[39;49m]\u001b[39m%\u001b[39;49m\u001b[39m5\u001b[39;49m\u001b[39m==\u001b[39m\u001b[39m0\u001b[39m)\n",
      "\u001b[1;31mTypeError\u001b[0m: not all arguments converted during string formatting"
     ]
    }
   ],
   "source": [
    "# to check the given str last cahr ascii value should be divisible by 5  or not\n",
    "s=\"apple\"\n",
    "ord(s[-1]%5==0)"
   ]
  },
  {
   "cell_type": "code",
   "execution_count": 144,
   "metadata": {},
   "outputs": [
    {
     "name": "stdout",
     "output_type": "stream",
     "text": [
      "apple\n"
     ]
    },
    {
     "data": {
      "text/plain": [
       "65"
      ]
     },
     "execution_count": 144,
     "metadata": {},
     "output_type": "execute_result"
    }
   ],
   "source": [
    "s=\"apple\"\n",
    "print(s)\n",
    "s[-1]\n",
    "ord('A')"
   ]
  },
  {
   "cell_type": "code",
   "execution_count": 113,
   "metadata": {},
   "outputs": [
    {
     "name": "stdout",
     "output_type": "stream",
     "text": [
      "True\n"
     ]
    }
   ],
   "source": [
    "#was to check present b/w 600 to 130 and the number should be divisible by 3 and 4\n",
    "n=120\n",
    "print(60<=n<=130 and n%3==0 and n%4==0 and n%10<9)"
   ]
  },
  {
   "cell_type": "code",
   "execution_count": 114,
   "metadata": {},
   "outputs": [
    {
     "name": "stdout",
     "output_type": "stream",
     "text": [
      "True\n"
     ]
    }
   ],
   "source": [
    "#was to check the given number is even or less than 25\n",
    "n=30\n",
    "print(n%2==0 or n>25)"
   ]
  },
  {
   "cell_type": "code",
   "execution_count": 115,
   "metadata": {},
   "outputs": [
    {
     "name": "stdout",
     "output_type": "stream",
     "text": [
      "True\n"
     ]
    }
   ],
   "source": [
    "\n",
    "n=30\n",
    "print(n%2==0)"
   ]
  },
  {
   "cell_type": "code",
   "execution_count": 116,
   "metadata": {},
   "outputs": [
    {
     "name": "stdout",
     "output_type": "stream",
     "text": [
      "True\n"
     ]
    }
   ],
   "source": [
    "#was to check the given num is  not divisible by either 3 and 5\n",
    "n=34\n",
    "print(n%3!=0 and n%5!=0)"
   ]
  },
  {
   "cell_type": "code",
   "execution_count": 117,
   "metadata": {},
   "outputs": [
    {
     "data": {
      "text/plain": [
       "'0'"
      ]
     },
     "execution_count": 117,
     "metadata": {},
     "output_type": "execute_result"
    }
   ],
   "source": [
    "#was to check find out the ascii char in a given number\n",
    "n=48\n",
    "chr(n)"
   ]
  },
  {
   "cell_type": "code",
   "execution_count": null,
   "metadata": {},
   "outputs": [],
   "source": []
  }
 ],
 "metadata": {
  "kernelspec": {
   "display_name": "Python 3",
   "language": "python",
   "name": "python3"
  },
  "language_info": {
   "codemirror_mode": {
    "name": "ipython",
    "version": 3
   },
   "file_extension": ".py",
   "mimetype": "text/x-python",
   "name": "python",
   "nbconvert_exporter": "python",
   "pygments_lexer": "ipython3",
   "version": "3.10.6"
  },
  "orig_nbformat": 4
 },
 "nbformat": 4,
 "nbformat_minor": 2
}
