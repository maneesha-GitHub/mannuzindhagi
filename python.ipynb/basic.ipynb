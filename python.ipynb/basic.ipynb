{
 "cells": [
  {
   "cell_type": "code",
   "execution_count": null,
   "metadata": {},
   "outputs": [],
   "source": []
  },
  {
   "cell_type": "code",
   "execution_count": 1,
   "metadata": {},
   "outputs": [
    {
     "name": "stdout",
     "output_type": "stream",
     "text": [
      "hello\n"
     ]
    }
   ],
   "source": [
    "#WAS TO PRINT \"Hello world\"\n",
    "s=\"hello\"\n",
    "print(s)"
   ]
  },
  {
   "cell_type": "code",
   "execution_count": 1,
   "metadata": {},
   "outputs": [
    {
     "name": "stdout",
     "output_type": "stream",
     "text": [
      "6\n",
      "[10, 20, 30]\n"
     ]
    }
   ],
   "source": [
    "#was to initilize the single and multiple value in single variable\n",
    "g=6\n",
    "print(g)\n",
    "h=[10,20,30]\n",
    "print(h)"
   ]
  },
  {
   "cell_type": "code",
   "execution_count": 2,
   "metadata": {},
   "outputs": [
    {
     "name": "stdout",
     "output_type": "stream",
     "text": [
      "150 120 250\n"
     ]
    }
   ],
   "source": [
    "#was to initialize multivariable values ae 150 , 120 , 250\n",
    "a,b,c = 150, 120 ,250\n",
    "print(a,b,c)\n"
   ]
  },
  {
   "cell_type": "code",
   "execution_count": 3,
   "metadata": {},
   "outputs": [
    {
     "name": "stdout",
     "output_type": "stream",
     "text": [
      "<class 'set'>\n"
     ]
    }
   ],
   "source": [
    "#types of data in given value \n",
    "a={23,43}\n",
    "print(type(a))\n"
   ]
  },
  {
   "cell_type": "code",
   "execution_count": 4,
   "metadata": {},
   "outputs": [
    {
     "name": "stdout",
     "output_type": "stream",
     "text": [
      "2620682917936\n"
     ]
    }
   ],
   "source": [
    "#was to print the address of the memory blok in given Value\n",
    "a=6835\n",
    "print(id(a))"
   ]
  },
  {
   "cell_type": "code",
   "execution_count": 5,
   "metadata": {},
   "outputs": [
    {
     "name": "stdout",
     "output_type": "stream",
     "text": [
      "manisha 21 8712316628 manishachilakapati@gmail.com 5.7\n"
     ]
    }
   ],
   "source": [
    "#print your details , and display it\n",
    "name = \"manisha\"\n",
    "age = 21\n",
    "phone = 8712316628\n",
    "email =\"manishachilakapati@gmail.com\"\n",
    "height = 5.7\n",
    "print(name , age , phone , email, height)"
   ]
  },
  {
   "cell_type": "code",
   "execution_count": 2,
   "metadata": {},
   "outputs": [
    {
     "name": "stdout",
     "output_type": "stream",
     "text": [
      "39\n",
      "10\n"
     ]
    }
   ],
   "source": [
    "#swaping the to varriables using 3rd temp element\n",
    "a= 10\n",
    "b=39\n",
    "\n",
    "temp = a\n",
    "a = b\n",
    "b = temp\n",
    "print(a)\n",
    "print(b) "
   ]
  },
  {
   "cell_type": "code",
   "execution_count": 3,
   "metadata": {},
   "outputs": [
    {
     "name": "stdout",
     "output_type": "stream",
     "text": [
      "(39, 68)\n",
      "[10, 20]\n"
     ]
    }
   ],
   "source": [
    "#swap the variables without using temp variables\n",
    "m = [10, 20]\n",
    "n = (39, 68)\n",
    "m , n = n , m\n",
    "print (m)\n",
    "print(n)"
   ]
  },
  {
   "cell_type": "code",
   "execution_count": 5,
   "metadata": {},
   "outputs": [
    {
     "name": "stdout",
     "output_type": "stream",
     "text": [
      "python\n",
      "java\n"
     ]
    }
   ],
   "source": [
    "#initializing a value\n",
    "a = {\"m\":\"python\"}\n",
    "print(a[\"m\"])\n",
    "a['m']= \"java\"\n",
    "print(a['m'])\n"
   ]
  },
  {
   "cell_type": "code",
   "execution_count": 6,
   "metadata": {},
   "outputs": [
    {
     "name": "stdout",
     "output_type": "stream",
     "text": [
      "[10, 20, 30]\n",
      "[10, 20, 30, 40, 50, 19]\n"
     ]
    }
   ],
   "source": [
    "#concatenation\n",
    "\n",
    "a = [10,20,30]\n",
    "print(a)\n",
    "a += [40,50,19]\n",
    "print(a)\n"
   ]
  },
  {
   "cell_type": "code",
   "execution_count": 16,
   "metadata": {},
   "outputs": [
    {
     "name": "stdout",
     "output_type": "stream",
     "text": [
      "10\n"
     ]
    },
    {
     "ename": "TypeError",
     "evalue": "'int' object is not iterable",
     "output_type": "error",
     "traceback": [
      "\u001b[1;31m---------------------------------------------------------------------------\u001b[0m",
      "\u001b[1;31mTypeError\u001b[0m                                 Traceback (most recent call last)",
      "Cell \u001b[1;32mIn[16], line 5\u001b[0m\n\u001b[0;32m      3\u001b[0m n \u001b[39m=\u001b[39m \u001b[39mstr\u001b[39m(a)\n\u001b[0;32m      4\u001b[0m \u001b[39mprint\u001b[39m(n)\n\u001b[1;32m----> 5\u001b[0m m \u001b[39m=\u001b[39m \u001b[39mlist\u001b[39;49m(a)\n\u001b[0;32m      6\u001b[0m \u001b[39mprint\u001b[39m(m)\n",
      "\u001b[1;31mTypeError\u001b[0m: 'int' object is not iterable"
     ]
    }
   ],
   "source": [
    "#convert single valuedata to multi value data \n",
    "a = 10\n",
    "n = str(a)\n",
    "print(n)\n",
    "m = list(a)\n",
    "print(m)\n",
    "\n",
    "\n",
    "\n"
   ]
  },
  {
   "cell_type": "code",
   "execution_count": 24,
   "metadata": {},
   "outputs": [
    {
     "name": "stdout",
     "output_type": "stream",
     "text": [
      "helloworld\n",
      "[10, 20, 30, 12, 34, 21]\n",
      "(21, 13, 34, 43, 53, 2)\n",
      "{32, 4, 6, 87, 42}\n",
      "{'a': 12, 'b': 34, 'n': 75, 'm': 86}\n"
     ]
    }
   ],
   "source": [
    "#to concate two multi value data types \n",
    "#str\n",
    "x = \"hello\"\n",
    "x+= \"world\"\n",
    "print(x)\n",
    "#list\n",
    "y = [10 , 20 , 30 ]\n",
    "y+=[12 , 34 , 21]\n",
    "print(y)\n",
    "#tuple\n",
    "z = (21, 13 , 34)\n",
    "z +=(43 , 53 ,2 )\n",
    "print(z)\n",
    "m = {87 , 6 ,32}\n",
    "m|={32 ,42 ,4}\n",
    "print(m)\n",
    "n = {'a':12,'b':34}\n",
    "n|={\"n\":75,\"m\":86}\n",
    "print(n)\n",
    "\n",
    "\n",
    "\n"
   ]
  },
  {
   "cell_type": "code",
   "execution_count": 28,
   "metadata": {},
   "outputs": [
    {
     "name": "stdout",
     "output_type": "stream",
     "text": [
      "5\n"
     ]
    },
    {
     "data": {
      "text/plain": [
       "4"
      ]
     },
     "execution_count": 28,
     "metadata": {},
     "output_type": "execute_result"
    }
   ],
   "source": [
    "#length of collection\n",
    "c = \"hello\"\n",
    "len(c)\n",
    "print(len(c))\n",
    "d=([13,53, \"\",13])\n",
    "len(d)"
   ]
  },
  {
   "cell_type": "code",
   "execution_count": 30,
   "metadata": {},
   "outputs": [
    {
     "name": "stdout",
     "output_type": "stream",
     "text": [
      "21\n"
     ]
    }
   ],
   "source": [
    "#write a equaion to check a middle value of a collection\n",
    "d = [12,43,21,56,87]\n",
    "print(d[len(d)//2])"
   ]
  },
  {
   "cell_type": "code",
   "execution_count": 36,
   "metadata": {},
   "outputs": [
    {
     "name": "stdout",
     "output_type": "stream",
     "text": [
      "this is a python class\n"
     ]
    }
   ],
   "source": [
    "#was to concate a new str to the starting of an existing str\n",
    "x = \"is a python class\"\n",
    "y =\"this \"\n",
    "z = y + x\n",
    "print(z )\n"
   ]
  },
  {
   "cell_type": "code",
   "execution_count": 40,
   "metadata": {},
   "outputs": [
    {
     "name": "stdout",
     "output_type": "stream",
     "text": [
      "6\n",
      "this is python class\n"
     ]
    }
   ],
   "source": [
    "#was to cancate a new str to the middle of a xisting str\n",
    "x = \"this is class\"\n",
    "print(len(x)//2)\n",
    "y = x[0:7]+ \" python\" + x[7:]\n",
    "print(y)"
   ]
  },
  {
   "cell_type": "code",
   "execution_count": 42,
   "metadata": {},
   "outputs": [
    {
     "name": "stdout",
     "output_type": "stream",
     "text": [
      "today is super holiday\n"
     ]
    }
   ],
   "source": [
    "#was to modify the new charecter into the middle of given str\n",
    "m = \"today is holiday\"\n",
    "n = m[0:len(m)//2] + \" super\" + m[len(m)//2:]\n",
    "print(n)"
   ]
  }
 ],
 "metadata": {
  "kernelspec": {
   "display_name": "Python 3",
   "language": "python",
   "name": "python3"
  },
  "language_info": {
   "codemirror_mode": {
    "name": "ipython",
    "version": 3
   },
   "file_extension": ".py",
   "mimetype": "text/x-python",
   "name": "python",
   "nbconvert_exporter": "python",
   "pygments_lexer": "ipython3",
   "version": "3.10.6"
  },
  "orig_nbformat": 4
 },
 "nbformat": 4,
 "nbformat_minor": 2
}
