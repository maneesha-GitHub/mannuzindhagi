{
 "cells": [
  {
   "cell_type": "code",
   "execution_count": null,
   "metadata": {},
   "outputs": [],
   "source": []
  },
  {
   "cell_type": "code",
   "execution_count": 62,
   "metadata": {},
   "outputs": [
    {
     "name": "stdout",
     "output_type": "stream",
     "text": [
      "hello\n"
     ]
    }
   ],
   "source": [
    "#WAS TO PRINT \"Hello world\"\n",
    "s=\"hello\"\n",
    "print(s)"
   ]
  },
  {
   "cell_type": "code",
   "execution_count": 63,
   "metadata": {},
   "outputs": [
    {
     "name": "stdout",
     "output_type": "stream",
     "text": [
      "6\n",
      "[10, 20, 30]\n"
     ]
    }
   ],
   "source": [
    "#was to initilize the single and multiple value in single variable\n",
    "g=6\n",
    "print(g)\n",
    "h=[10,20,30]\n",
    "print(h)"
   ]
  },
  {
   "cell_type": "code",
   "execution_count": 64,
   "metadata": {},
   "outputs": [
    {
     "name": "stdout",
     "output_type": "stream",
     "text": [
      "150 120 250\n"
     ]
    }
   ],
   "source": [
    "#was to initialize multivariable values ae 150 , 120 , 250\n",
    "a,b,c = 150, 120 ,250\n",
    "print(a,b,c)\n"
   ]
  },
  {
   "cell_type": "code",
   "execution_count": 65,
   "metadata": {},
   "outputs": [
    {
     "name": "stdout",
     "output_type": "stream",
     "text": [
      "<class 'set'>\n"
     ]
    }
   ],
   "source": [
    "#types of data in given value \n",
    "a={23,43}\n",
    "print(type(a))\n"
   ]
  },
  {
   "cell_type": "code",
   "execution_count": 66,
   "metadata": {},
   "outputs": [
    {
     "name": "stdout",
     "output_type": "stream",
     "text": [
      "1903097701552\n"
     ]
    }
   ],
   "source": [
    "#was to print the address of the memory blok in given Value\n",
    "a=6835\n",
    "print(id(a))"
   ]
  },
  {
   "cell_type": "code",
   "execution_count": 67,
   "metadata": {},
   "outputs": [
    {
     "name": "stdout",
     "output_type": "stream",
     "text": [
      "manisha 21 8712316628 manishachilakapati@gmail.com 5.7\n"
     ]
    }
   ],
   "source": [
    "#print your details , and display it\n",
    "name = \"manisha\"\n",
    "age = 21\n",
    "phone = 8712316628\n",
    "email =\"manishachilakapati@gmail.com\"\n",
    "height = 5.7\n",
    "print(name , age , phone , email, height)"
   ]
  },
  {
   "cell_type": "code",
   "execution_count": 68,
   "metadata": {},
   "outputs": [
    {
     "name": "stdout",
     "output_type": "stream",
     "text": [
      "39\n",
      "10\n"
     ]
    }
   ],
   "source": [
    "#swaping the to varriables using 3rd temp element\n",
    "a= 10\n",
    "b=39\n",
    "\n",
    "temp = a\n",
    "a = b\n",
    "b = temp\n",
    "print(a)\n",
    "print(b) "
   ]
  },
  {
   "cell_type": "code",
   "execution_count": 69,
   "metadata": {},
   "outputs": [
    {
     "name": "stdout",
     "output_type": "stream",
     "text": [
      "(39, 68)\n",
      "[10, 20]\n"
     ]
    }
   ],
   "source": [
    "#swap the variables without using temp variables\n",
    "m = [10, 20]\n",
    "n = (39, 68)\n",
    "m , n = n , m\n",
    "print (m)\n",
    "print(n)"
   ]
  },
  {
   "cell_type": "code",
   "execution_count": 70,
   "metadata": {},
   "outputs": [
    {
     "name": "stdout",
     "output_type": "stream",
     "text": [
      "python\n",
      "java\n"
     ]
    }
   ],
   "source": [
    "#initializing a value\n",
    "a = {\"m\":\"python\"}\n",
    "print(a[\"m\"])\n",
    "a['m']= \"java\"\n",
    "print(a['m'])\n"
   ]
  },
  {
   "cell_type": "code",
   "execution_count": 71,
   "metadata": {},
   "outputs": [
    {
     "name": "stdout",
     "output_type": "stream",
     "text": [
      "[10, 20, 30]\n",
      "[10, 20, 30, 40, 50, 19]\n"
     ]
    }
   ],
   "source": [
    "#concatenation\n",
    "\n",
    "a = [10,20,30]\n",
    "print(a)\n",
    "a += [40,50,19]\n",
    "print(a)\n"
   ]
  },
  {
   "cell_type": "code",
   "execution_count": 202,
   "metadata": {},
   "outputs": [
    {
     "data": {
      "text/plain": [
       "'10'"
      ]
     },
     "execution_count": 202,
     "metadata": {},
     "output_type": "execute_result"
    }
   ],
   "source": [
    "#convert single valuedata to multi value data \n",
    "a = 10\n",
    "str(a)\n",
    "\n",
    "\n",
    "\n"
   ]
  },
  {
   "cell_type": "code",
   "execution_count": null,
   "metadata": {},
   "outputs": [
    {
     "name": "stdout",
     "output_type": "stream",
     "text": [
      "helloworld\n",
      "[10, 20, 30, 12, 34, 21]\n",
      "(21, 13, 34, 43, 53, 2)\n",
      "{32, 4, 6, 87, 42}\n",
      "{'a': 12, 'b': 34, 'n': 75, 'm': 86}\n"
     ]
    }
   ],
   "source": [
    "#to concate two multi value data types \n",
    "#str\n",
    "x = \"hello\"\n",
    "x+= \"world\"\n",
    "print(x)\n",
    "#list\n",
    "y = [10 , 20 , 30 ]\n",
    "y+=[12 , 34 , 21]\n",
    "print(y)\n",
    "#tuple\n",
    "z = (21, 13 , 34)\n",
    "z +=(43 , 53 ,2 )\n",
    "print(z)\n",
    "m = {87 , 6 ,32}\n",
    "m|={32 ,42 ,4}\n",
    "print(m)\n",
    "n = {'a':12,'b':34}\n",
    "n|={\"n\":75,\"m\":86}\n",
    "print(n)\n",
    "\n",
    "\n",
    "\n"
   ]
  },
  {
   "cell_type": "code",
   "execution_count": null,
   "metadata": {},
   "outputs": [
    {
     "name": "stdout",
     "output_type": "stream",
     "text": [
      "5\n"
     ]
    },
    {
     "data": {
      "text/plain": [
       "4"
      ]
     },
     "execution_count": 28,
     "metadata": {},
     "output_type": "execute_result"
    }
   ],
   "source": [
    "#length of collection\n",
    "c = \"hello\"\n",
    "len(c)\n",
    "print(len(c))\n",
    "d=([13,53, \"\",13])\n",
    "len(d)"
   ]
  },
  {
   "cell_type": "code",
   "execution_count": null,
   "metadata": {},
   "outputs": [
    {
     "name": "stdout",
     "output_type": "stream",
     "text": [
      "21\n"
     ]
    }
   ],
   "source": [
    "#write a equaion to check a middle value of a collection\n",
    "d = [12,43,21,56,87]\n",
    "print(d[len(d)//2])"
   ]
  },
  {
   "cell_type": "code",
   "execution_count": null,
   "metadata": {},
   "outputs": [
    {
     "name": "stdout",
     "output_type": "stream",
     "text": [
      "this is a python class\n"
     ]
    }
   ],
   "source": [
    "#was to concate a new str to the starting of an existing str\n",
    "x = \"is a python class\"\n",
    "y =\"this \"\n",
    "z = y + x\n",
    "print(z )\n"
   ]
  },
  {
   "cell_type": "code",
   "execution_count": null,
   "metadata": {},
   "outputs": [
    {
     "name": "stdout",
     "output_type": "stream",
     "text": [
      "6\n",
      "this is python class\n"
     ]
    }
   ],
   "source": [
    "#was to cancate a new str to the middle of a xisting str\n",
    "x = \"this is class\"\n",
    "print(len(x)//2)\n",
    "y = x[0:7]+ \" python\" + x[7:]\n",
    "print(y)"
   ]
  },
  {
   "cell_type": "code",
   "execution_count": null,
   "metadata": {},
   "outputs": [
    {
     "name": "stdout",
     "output_type": "stream",
     "text": [
      "today is super holiday\n"
     ]
    }
   ],
   "source": [
    "#was to modify the new charecter into the middle of given str\n",
    "m = \"today is holiday\"\n",
    "n = m[0:len(m)//2] + \" super\" + m[len(m)//2:]\n",
    "print(n)"
   ]
  },
  {
   "cell_type": "code",
   "execution_count": null,
   "metadata": {},
   "outputs": [
    {
     "name": "stdout",
     "output_type": "stream",
     "text": [
      "luv u zindhagi\n"
     ]
    }
   ],
   "source": [
    "#was o modify the sequence of charecters in given ster\n",
    "s = \"luvuzindhagi\"\n",
    "p = s[0:3]+\" \"+s[3:4]+\" \"+s[4:]\n",
    "print(p)"
   ]
  },
  {
   "cell_type": "code",
   "execution_count": null,
   "metadata": {},
   "outputs": [
    {
     "name": "stdout",
     "output_type": "stream",
     "text": [
      "sadhuvukondifirst\n"
     ]
    }
   ],
   "source": [
    "#to delete specific char\n",
    "s = \"sadhuvukondiifirst\"\n",
    "p = s[0:11]+s[12:]\n",
    "print(p)"
   ]
  },
  {
   "cell_type": "code",
   "execution_count": null,
   "metadata": {},
   "outputs": [
    {
     "name": "stdout",
     "output_type": "stream",
     "text": [
      "[1, 2, 3, 'a', 'b']\n"
     ]
    }
   ],
   "source": [
    "#was to concate the new value into the list\n",
    "l = [1,2,3]\n",
    "l += [\"a\",\"b\"]\n",
    "print(l)"
   ]
  },
  {
   "cell_type": "code",
   "execution_count": 204,
   "metadata": {},
   "outputs": [
    {
     "data": {
      "text/plain": [
       "['ramu', 'seetha', 'king', 'queen']"
      ]
     },
     "execution_count": 204,
     "metadata": {},
     "output_type": "execute_result"
    }
   ],
   "source": [
    "#was to concate the new value ino ending of str\n",
    "y =[\"ramu\", \"seetha\"]\n",
    "y+=['king' , \"queen\"]\n",
    "y\n"
   ]
  },
  {
   "cell_type": "code",
   "execution_count": 206,
   "metadata": {},
   "outputs": [
    {
     "data": {
      "text/plain": [
       "[10, 113, '10', '20', 'haii']"
      ]
     },
     "execution_count": 206,
     "metadata": {},
     "output_type": "execute_result"
    }
   ],
   "source": [
    "#was to concate the new value in to the middle of the str\n",
    "t =[10, 113 , True ,\"haii\"]\n",
    "t [len(t)//2:len(l)//2]=['10','20']\n",
    "t"
   ]
  },
  {
   "cell_type": "code",
   "execution_count": 207,
   "metadata": {},
   "outputs": [
    {
     "data": {
      "text/plain": [
       "[12, 3432, 100, 200, True, 'haii']"
      ]
     },
     "execution_count": 207,
     "metadata": {},
     "output_type": "execute_result"
    }
   ],
   "source": [
    "#was to concate a new value in to the specific position of list\n",
    "l =[12 ,3432,True, \"haii\"]\n",
    "l[-2:-2] = [100 ,200]\n",
    "l"
   ]
  },
  {
   "cell_type": "code",
   "execution_count": 209,
   "metadata": {},
   "outputs": [
    {
     "data": {
      "text/plain": [
       "[200, 3432, True, 'haii']"
      ]
     },
     "execution_count": 209,
     "metadata": {},
     "output_type": "execute_result"
    }
   ],
   "source": [
    "#was to modify a new value in to the starting of list\n",
    "l =[12 ,3432,True, \"haii\"]\n",
    "l[0] =200\n",
    "l"
   ]
  },
  {
   "cell_type": "code",
   "execution_count": 210,
   "metadata": {},
   "outputs": [
    {
     "data": {
      "text/plain": [
       "[12, 3432, True, 100]"
      ]
     },
     "execution_count": 210,
     "metadata": {},
     "output_type": "execute_result"
    }
   ],
   "source": [
    "#was to modify a new value in to the ending position of list\n",
    "l =[12 ,3432,True, \"haii\"]\n",
    "l[-1] = 100\n",
    "l"
   ]
  },
  {
   "cell_type": "code",
   "execution_count": 211,
   "metadata": {},
   "outputs": [
    {
     "data": {
      "text/plain": [
       "[12, 3432, 100, 'haii']"
      ]
     },
     "execution_count": 211,
     "metadata": {},
     "output_type": "execute_result"
    }
   ],
   "source": [
    "#was to modify  a new value in to the middle position of list\n",
    "l =[12 ,3432,True, \"haii\"]\n",
    "l[len(l)//2] = 100 \n",
    "l"
   ]
  },
  {
   "cell_type": "code",
   "execution_count": 208,
   "metadata": {},
   "outputs": [
    {
     "data": {
      "text/plain": [
       "[12, (15+73j), True, 'haii']"
      ]
     },
     "execution_count": 208,
     "metadata": {},
     "output_type": "execute_result"
    }
   ],
   "source": [
    "#was to modify a new value in to the specific position of list\n",
    "l =[12 ,3432,True, \"haii\"]\n",
    "l[1] = 15 + 73j\n",
    "l"
   ]
  },
  {
   "cell_type": "code",
   "execution_count": 1,
   "metadata": {},
   "outputs": [
    {
     "data": {
      "text/plain": [
       "['a', 's', 'sz', 'r', 53, 24, 63, 642, 25]"
      ]
     },
     "execution_count": 1,
     "metadata": {},
     "output_type": "execute_result"
    }
   ],
   "source": [
    "#was to modify the 1st 4 position value in list\n",
    "l= [2,4,63,22,53,24,63,642,25]\n",
    "l[0:4]=[\"a\",\"s\",\"sz\",\"r\"]\n",
    "l"
   ]
  },
  {
   "cell_type": "code",
   "execution_count": 4,
   "metadata": {},
   "outputs": [
    {
     "data": {
      "text/plain": [
       "['a', 1, 's', 3, 'sz', 4, 'r', 5, 'g']"
      ]
     },
     "execution_count": 4,
     "metadata": {},
     "output_type": "execute_result"
    }
   ],
   "source": [
    "#was to modify the sequence of list\n",
    "l= [2,4,63,22,53,24,63,642,25]\n",
    "l[0::2]=[\"a\",\"s\",\"sz\",\"r\",'g']\n",
    "l[1::2]=[1,3,4,5]\n",
    "l"
   ]
  },
  {
   "cell_type": "code",
   "execution_count": 5,
   "metadata": {},
   "outputs": [
    {
     "data": {
      "text/plain": [
       "[2, 4, 63, 53, 24, 63, 642, 25]"
      ]
     },
     "execution_count": 5,
     "metadata": {},
     "output_type": "execute_result"
    }
   ],
   "source": [
    "#was to delete the specifi position value in list\n",
    "l= [2,4,63,22,53,24,63,642,25]\n",
    "del l[3]\n",
    "l"
   ]
  },
  {
   "cell_type": "code",
   "execution_count": 6,
   "metadata": {},
   "outputs": [
    {
     "data": {
      "text/plain": [
       "{22, 24, 25, 53, 642}"
      ]
     },
     "execution_count": 6,
     "metadata": {},
     "output_type": "execute_result"
    }
   ],
   "source": [
    "#was to delete the specific value in set\n",
    "l= {2,4,63,22,53,24,63,642,25}\n",
    "l= l -{2, 4,63}\n",
    "l"
   ]
  },
  {
   "cell_type": "code",
   "execution_count": null,
   "metadata": {},
   "outputs": [
    {
     "name": "stdout",
     "output_type": "stream",
     "text": [
      "{'a': 150, 'b': 75}\n"
     ]
    }
   ],
   "source": [
    "#concate the new key and value into the dict\n",
    "d={'a':150}\n",
    "d[\"b\"]=75 \n",
    "print(d)"
   ]
  },
  {
   "cell_type": "code",
   "execution_count": 7,
   "metadata": {},
   "outputs": [
    {
     "name": "stdout",
     "output_type": "stream",
     "text": [
      "{'a': 150, 'b': 24, 's': 23, 'v': 3}\n"
     ]
    }
   ],
   "source": [
    "#concate the new key and  value into the  multi value dict\n",
    "d={'a':150,\"b\":24}\n",
    "e = {\"s\":23,\"v\":3}\n",
    "d|=e\n",
    "print(d)"
   ]
  },
  {
   "cell_type": "code",
   "execution_count": null,
   "metadata": {},
   "outputs": [],
   "source": [
    "#concate the new key and value into the dict\n",
    "d={'a':150}\n",
    "d[\"b\"]=75 \n",
    "print(d)"
   ]
  },
  {
   "cell_type": "code",
   "execution_count": 88,
   "metadata": {},
   "outputs": [
    {
     "name": "stdout",
     "output_type": "stream",
     "text": [
      "{'a': 'hai', 'b': 700, 'd': 780}\n"
     ]
    }
   ],
   "source": [
    "d = {'a':\"hai\",'b':700,'c':500,'d':780}\n",
    "d['c']\n",
    "del d['c']\n",
    "print(d)\n"
   ]
  },
  {
   "cell_type": "code",
   "execution_count": 8,
   "metadata": {},
   "outputs": [
    {
     "data": {
      "text/plain": [
       "{10: 234, 23: 'jde'}"
      ]
     },
     "execution_count": 8,
     "metadata": {},
     "output_type": "execute_result"
    }
   ],
   "source": [
    "#modify the specific value in dict\n",
    "x={10:50,23:\"jde\"}\n",
    "x[10]=234\n",
    "x"
   ]
  },
  {
   "cell_type": "code",
   "execution_count": 120,
   "metadata": {},
   "outputs": [
    {
     "name": "stdout",
     "output_type": "stream",
     "text": [
      "{'a': 'hai', 'b': 750}\n"
     ]
    }
   ],
   "source": [
    "#to delete the specific key and value in the given dict\n",
    "d ={'a':\"hai\" , 'b':750 , 'c': '500'}\n",
    "del d['c']\n",
    "print(d) "
   ]
  },
  {
   "cell_type": "code",
   "execution_count": null,
   "metadata": {},
   "outputs": [],
   "source": []
  },
  {
   "cell_type": "code",
   "execution_count": 87,
   "metadata": {},
   "outputs": [
    {
     "name": "stdout",
     "output_type": "stream",
     "text": [
      "{10: 156, 20: 'hai'}\n"
     ]
    }
   ],
   "source": [
    "#to modify the specific value in the given dict\n",
    "x={10:150,20:\"hai\"}\n",
    "x[10]=156\n",
    "print (x)"
   ]
  },
  {
   "cell_type": "code",
   "execution_count": 125,
   "metadata": {},
   "outputs": [
    {
     "name": "stdout",
     "output_type": "stream",
     "text": [
      "['a', 'b', 'c', 10, 20, 30]\n"
     ]
    }
   ],
   "source": [
    "#to concate the list  using type casting\n",
    "l=['a','b','c']\n",
    "t=(10,20,30)\n",
    "print(l+list(t))"
   ]
  },
  {
   "cell_type": "code",
   "execution_count": 129,
   "metadata": {},
   "outputs": [],
   "source": [
    "#to concate the list value and tuple value without using type casting\n",
    "l = ['a','b','c'] \n",
    "t=(32,54,2)\n",
    "l+=t"
   ]
  },
  {
   "cell_type": "code",
   "execution_count": 90,
   "metadata": {},
   "outputs": [
    {
     "name": "stdout",
     "output_type": "stream",
     "text": [
      "True\n"
     ]
    }
   ],
   "source": [
    "#to check the gven num is divisible by 3\n",
    "n=9\n",
    "print(n%3==0)"
   ]
  },
  {
   "cell_type": "code",
   "execution_count": 91,
   "metadata": {},
   "outputs": [
    {
     "name": "stdout",
     "output_type": "stream",
     "text": [
      "True\n"
     ]
    }
   ],
   "source": [
    "#to check the given numm is divisible by 2 and 6\n",
    "n=12\n",
    "print(n%2==0 and n%6==0)"
   ]
  },
  {
   "cell_type": "code",
   "execution_count": 92,
   "metadata": {},
   "outputs": [
    {
     "name": "stdout",
     "output_type": "stream",
     "text": [
      "2\n"
     ]
    },
    {
     "data": {
      "text/plain": [
       "False"
      ]
     },
     "execution_count": 92,
     "metadata": {},
     "output_type": "execute_result"
    }
   ],
   "source": [
    "#to check the last digit is divisible by 3 from the given int num \n",
    "n=1998\n",
    "print((n%10)%3)==0"
   ]
  },
  {
   "cell_type": "code",
   "execution_count": 130,
   "metadata": {},
   "outputs": [
    {
     "name": "stdout",
     "output_type": "stream",
     "text": [
      "2026\n"
     ]
    }
   ],
   "source": [
    "#to check the last digit is divisible 3 by type ccating\n",
    "n=2026\n",
    "int(str(n)[-1])%3==0\n",
    "print(n)"
   ]
  },
  {
   "cell_type": "code",
   "execution_count": 131,
   "metadata": {},
   "outputs": [
    {
     "name": "stdout",
     "output_type": "stream",
     "text": [
      "True\n"
     ]
    }
   ],
   "source": [
    "# to check the given num is greater than 150\n",
    "n = 187\n",
    "print(n>150)"
   ]
  },
  {
   "cell_type": "code",
   "execution_count": 132,
   "metadata": {},
   "outputs": [
    {
     "name": "stdout",
     "output_type": "stream",
     "text": [
      "False\n"
     ]
    }
   ],
   "source": [
    "#to check the given is greater or equal to 100\n",
    "n = 99\n",
    "print(n>=100)"
   ]
  },
  {
   "cell_type": "code",
   "execution_count": 133,
   "metadata": {},
   "outputs": [
    {
     "name": "stdout",
     "output_type": "stream",
     "text": [
      "True\n"
     ]
    }
   ],
   "source": [
    "#to check the given num is <150 \n",
    "n = 132\n",
    "print(n<150)"
   ]
  },
  {
   "cell_type": "code",
   "execution_count": 134,
   "metadata": {},
   "outputs": [
    {
     "name": "stdout",
     "output_type": "stream",
     "text": [
      "True\n"
     ]
    }
   ],
   "source": [
    "# to check the given num is <= 100\n",
    "n= 100\n",
    "print(n<=100)"
   ]
  },
  {
   "cell_type": "code",
   "execution_count": 135,
   "metadata": {},
   "outputs": [
    {
     "name": "stdout",
     "output_type": "stream",
     "text": [
      "False\n"
     ]
    }
   ],
   "source": [
    "#to check the given num is > 15 and < 24\n",
    "n=23 \n",
    "print(15<n>24)"
   ]
  },
  {
   "cell_type": "code",
   "execution_count": 136,
   "metadata": {},
   "outputs": [
    {
     "name": "stdout",
     "output_type": "stream",
     "text": [
      "False\n"
     ]
    }
   ],
   "source": [
    "#to check he given num is even\n",
    "n =23\n",
    "print(n%2==0)"
   ]
  },
  {
   "cell_type": "code",
   "execution_count": 137,
   "metadata": {},
   "outputs": [
    {
     "name": "stdout",
     "output_type": "stream",
     "text": [
      "True\n"
     ]
    }
   ],
   "source": [
    "#to check the given num is odd\n",
    "n = 13\n",
    "print(n%2!=0)"
   ]
  },
  {
   "cell_type": "code",
   "execution_count": 105,
   "metadata": {},
   "outputs": [
    {
     "name": "stdout",
     "output_type": "stream",
     "text": [
      "abcabcabcabcabcabc\n"
     ]
    }
   ],
   "source": [
    "#repclication of a given str 6 times\n",
    "s=\"abc\"\n",
    "print(s*6)"
   ]
  },
  {
   "cell_type": "code",
   "execution_count": 106,
   "metadata": {},
   "outputs": [
    {
     "name": "stdout",
     "output_type": "stream",
     "text": [
      "('a', 'b', None, 'a', 'b', None, 'a', 'b', None)\n"
     ]
    }
   ],
   "source": [
    "#replcation of a collection in 3 times\n",
    "t=('a','b',None)\n",
    "print(t*3)"
   ]
  },
  {
   "cell_type": "code",
   "execution_count": 9,
   "metadata": {},
   "outputs": [
    {
     "name": "stdout",
     "output_type": "stream",
     "text": [
      "True\n"
     ]
    }
   ],
   "source": [
    "#to check the given number is divisibel by 3 and also < 22\n",
    "n = 24\n",
    "print(n%3==0 and n>22)"
   ]
  },
  {
   "cell_type": "code",
   "execution_count": 12,
   "metadata": {},
   "outputs": [
    {
     "data": {
      "text/plain": [
       "False"
      ]
     },
     "execution_count": 12,
     "metadata": {},
     "output_type": "execute_result"
    }
   ],
   "source": [
    "#tocheck the len(collection) is even or not\n",
    "g = \"hbvrkvn\"\n",
    "len(g)%2==0\n"
   ]
  },
  {
   "cell_type": "code",
   "execution_count": 13,
   "metadata": {},
   "outputs": [
    {
     "name": "stdout",
     "output_type": "stream",
     "text": [
      "True\n"
     ]
    }
   ],
   "source": [
    "#to check the len(collection) is < 55 or not and >16\n",
    "\n",
    "y =\"f uhbvuyiuvc8u8vyiybktd\"\n",
    "print(len(y)>16 and len(y)<55)"
   ]
  },
  {
   "cell_type": "code",
   "execution_count": 170,
   "metadata": {},
   "outputs": [
    {
     "data": {
      "text/plain": [
       "False"
      ]
     },
     "execution_count": 170,
     "metadata": {},
     "output_type": "execute_result"
    }
   ],
   "source": [
    "# to check the given str last cahr ascii value should be divisible by 5  or not\n",
    "s=\"apple\"\n",
    "ord(s[-1])%5==0"
   ]
  },
  {
   "cell_type": "code",
   "execution_count": 144,
   "metadata": {},
   "outputs": [
    {
     "name": "stdout",
     "output_type": "stream",
     "text": [
      "apple\n"
     ]
    },
    {
     "data": {
      "text/plain": [
       "65"
      ]
     },
     "execution_count": 144,
     "metadata": {},
     "output_type": "execute_result"
    }
   ],
   "source": [
    "s=\"apple\"\n",
    "print(s)\n",
    "s[-1]\n",
    "ord('A')"
   ]
  },
  {
   "cell_type": "code",
   "execution_count": 113,
   "metadata": {},
   "outputs": [
    {
     "name": "stdout",
     "output_type": "stream",
     "text": [
      "True\n"
     ]
    }
   ],
   "source": [
    "#was to check present b/w 60 to 130 and the number should be divisible by 3 and 4\n",
    "n=120\n",
    "print(60<=n<=130 and n%3==0 and n%4==0 and n%10<9)"
   ]
  },
  {
   "cell_type": "code",
   "execution_count": 145,
   "metadata": {},
   "outputs": [
    {
     "name": "stdout",
     "output_type": "stream",
     "text": [
      "True\n"
     ]
    }
   ],
   "source": [
    "#was to check the given number is even or greater than 25\n",
    "n=30\n",
    "print(n%2==0 or n<25)"
   ]
  },
  {
   "cell_type": "code",
   "execution_count": 114,
   "metadata": {},
   "outputs": [
    {
     "name": "stdout",
     "output_type": "stream",
     "text": [
      "True\n"
     ]
    }
   ],
   "source": [
    "#was to check the given number is even or greater than 25\n",
    "n=30\n",
    "print(n%2==0 or n>25)"
   ]
  },
  {
   "cell_type": "code",
   "execution_count": 146,
   "metadata": {},
   "outputs": [
    {
     "name": "stdout",
     "output_type": "stream",
     "text": [
      "True\n"
     ]
    }
   ],
   "source": [
    "#was to check the given num is divisible by 3 Or 5\n",
    "n=30\n",
    "print(n%3==0 or n%5==0)"
   ]
  },
  {
   "cell_type": "code",
   "execution_count": 116,
   "metadata": {},
   "outputs": [
    {
     "name": "stdout",
     "output_type": "stream",
     "text": [
      "True\n"
     ]
    }
   ],
   "source": [
    "#was to check the given num is  not divisible by either 3 and 5\n",
    "n=34\n",
    "print(n%3!=0 and n%5!=0)"
   ]
  },
  {
   "cell_type": "code",
   "execution_count": 117,
   "metadata": {},
   "outputs": [
    {
     "data": {
      "text/plain": [
       "'0'"
      ]
     },
     "execution_count": 117,
     "metadata": {},
     "output_type": "execute_result"
    }
   ],
   "source": [
    "#was to check find out the ascii char in a given number\n",
    "n=48\n",
    "chr(n)"
   ]
  },
  {
   "cell_type": "code",
   "execution_count": 147,
   "metadata": {},
   "outputs": [
    {
     "name": "stdout",
     "output_type": "stream",
     "text": [
      "False\n"
     ]
    }
   ],
   "source": [
    "#to check the given num is not a evn num\n",
    "n=30 \n",
    "print(n%2!=0)"
   ]
  },
  {
   "cell_type": "code",
   "execution_count": null,
   "metadata": {},
   "outputs": [],
   "source": [
    "#to check the given num is not a odd num\n",
    "n=30 \n",
    "print(n%2==0)"
   ]
  },
  {
   "cell_type": "code",
   "execution_count": 148,
   "metadata": {},
   "outputs": [
    {
     "name": "stdout",
     "output_type": "stream",
     "text": [
      "False\n"
     ]
    }
   ],
   "source": [
    "#to check the given num is not divisible by 3 \n",
    "n=30 \n",
    "print(n%3!=0)"
   ]
  },
  {
   "cell_type": "code",
   "execution_count": 150,
   "metadata": {},
   "outputs": [
    {
     "name": "stdout",
     "output_type": "stream",
     "text": [
      "False\n"
     ]
    }
   ],
   "source": [
    "#to check the given num is not divisible by 3  and 5\n",
    "n=30 \n",
    "print(n%3!=0 and n%5!=0)"
   ]
  },
  {
   "cell_type": "code",
   "execution_count": 152,
   "metadata": {},
   "outputs": [
    {
     "name": "stdout",
     "output_type": "stream",
     "text": [
      "False\n"
     ]
    }
   ],
   "source": [
    "#to check the given num is not divisible by 3 or 5\n",
    "n=30 \n",
    "print(n%3!=0 or n%5!=0)"
   ]
  },
  {
   "cell_type": "code",
   "execution_count": 168,
   "metadata": {},
   "outputs": [
    {
     "data": {
      "text/plain": [
       "True"
      ]
     },
     "execution_count": 168,
     "metadata": {},
     "output_type": "execute_result"
    }
   ],
   "source": [
    "#to check the given charecter acsii value is  divisible by 5\n",
    "n=\"aasd\"\n",
    "print(ord(n[-1])%5==0)"
   ]
  },
  {
   "cell_type": "code",
   "execution_count": 159,
   "metadata": {},
   "outputs": [
    {
     "data": {
      "text/plain": [
       "'\\x1e'"
      ]
     },
     "execution_count": 159,
     "metadata": {},
     "output_type": "execute_result"
    }
   ],
   "source": [
    "#to check the given asciii char in a given num \n",
    "n=30 \n",
    "chr(n)"
   ]
  },
  {
   "cell_type": "code",
   "execution_count": 163,
   "metadata": {},
   "outputs": [
    {
     "data": {
      "text/plain": [
       "97"
      ]
     },
     "execution_count": 163,
     "metadata": {},
     "output_type": "execute_result"
    }
   ],
   "source": [
    "#To check the ascii value in a given char\n",
    "ch ='a'\n",
    "ord(ch)"
   ]
  },
  {
   "cell_type": "code",
   "execution_count": 172,
   "metadata": {},
   "outputs": [
    {
     "data": {
      "text/plain": [
       "True"
      ]
     },
     "execution_count": 172,
     "metadata": {},
     "output_type": "execute_result"
    }
   ],
   "source": [
    "#to check the given chr is uppercase or not\n",
    "ch = \"G\"\n",
    "\"A\" <= ch and ch <= \"z\" "
   ]
  },
  {
   "cell_type": "code",
   "execution_count": 174,
   "metadata": {},
   "outputs": [
    {
     "data": {
      "text/plain": [
       "True"
      ]
     },
     "execution_count": 174,
     "metadata": {},
     "output_type": "execute_result"
    }
   ],
   "source": [
    "#to check the given chr is lower case \n",
    "ch = \"a\"\n",
    "\"a\" <= ch <= \"z\""
   ]
  },
  {
   "cell_type": "code",
   "execution_count": 197,
   "metadata": {},
   "outputs": [
    {
     "data": {
      "text/plain": [
       "False"
      ]
     },
     "execution_count": 197,
     "metadata": {},
     "output_type": "execute_result"
    }
   ],
   "source": [
    "#to check the given charecter is the alphabet \n",
    "ch = \"8\"\n",
    "\"A\" <= ch <= \"Z\" or \"a\"<=ch<=\"z\" \n",
    "\n"
   ]
  },
  {
   "cell_type": "code",
   "execution_count": 178,
   "metadata": {},
   "outputs": [
    {
     "data": {
      "text/plain": [
       "True"
      ]
     },
     "execution_count": 178,
     "metadata": {},
     "output_type": "execute_result"
    }
   ],
   "source": [
    "# to check the given char is the ascii num \n",
    "ch =5\n",
    "0 <= ch <= 9 "
   ]
  },
  {
   "cell_type": "code",
   "execution_count": 179,
   "metadata": {},
   "outputs": [
    {
     "data": {
      "text/plain": [
       "False"
      ]
     },
     "execution_count": 179,
     "metadata": {},
     "output_type": "execute_result"
    }
   ],
   "source": [
    "# to check the given char is spcl char\n",
    "ch =\"$\"\n",
    "\"A\" <= ch <= \"Z\" or \"a\"<=ch<=\"z\" or \"0\" <= ch <= \"9\"\n"
   ]
  },
  {
   "cell_type": "code",
   "execution_count": 194,
   "metadata": {},
   "outputs": [
    {
     "data": {
      "text/plain": [
       "True"
      ]
     },
     "execution_count": 194,
     "metadata": {},
     "output_type": "execute_result"
    }
   ],
   "source": [
    "#to check the giiven num should not be upper case \n",
    "ch = 'A'\n",
    "n != (\"A\" <= ch <= \"Z\") "
   ]
  },
  {
   "cell_type": "code",
   "execution_count": 189,
   "metadata": {},
   "outputs": [
    {
     "data": {
      "text/plain": [
       "False"
      ]
     },
     "execution_count": 189,
     "metadata": {},
     "output_type": "execute_result"
    }
   ],
   "source": [
    "#to check the giiven num should not be lower case \n",
    "ch = 'B'\n",
    "ch != \"a\" <= ch <= \"z\" "
   ]
  },
  {
   "cell_type": "code",
   "execution_count": 193,
   "metadata": {},
   "outputs": [
    {
     "data": {
      "text/plain": [
       "True"
      ]
     },
     "execution_count": 193,
     "metadata": {},
     "output_type": "execute_result"
    }
   ],
   "source": [
    "# to check the given char is not a spcl char\n",
    "ch =\"$\"\n",
    "n != (\"A\" <= ch <= \"Z\" or \"a\"<=ch<=\"z\" or \"0\" <= ch <= \"9\")\n"
   ]
  },
  {
   "cell_type": "code",
   "execution_count": 196,
   "metadata": {},
   "outputs": [
    {
     "data": {
      "text/plain": [
       "True"
      ]
     },
     "execution_count": 196,
     "metadata": {},
     "output_type": "execute_result"
    }
   ],
   "source": [
    "# to check the given char is not a ascii num \n",
    "ch =\"g\"\n",
    "n != ( \"0\" <= ch <= \"9\")\n"
   ]
  },
  {
   "cell_type": "code",
   "execution_count": null,
   "metadata": {},
   "outputs": [],
   "source": [
    "# to check the given char is not a ascii num \n",
    "ch =\"g\"\n",
    "n != ( \"0\" <= ch <= \"9\")\n",
    "\n"
   ]
  },
  {
   "cell_type": "code",
   "execution_count": 198,
   "metadata": {},
   "outputs": [
    {
     "data": {
      "text/plain": [
       "True"
      ]
     },
     "execution_count": 198,
     "metadata": {},
     "output_type": "execute_result"
    }
   ],
   "source": [
    "#to check the given char is not a spcl char\n",
    "ch = \"$\"\n",
    "n != (\"A\" <= ch <= \"Z\" or \"a\"<=ch<=\"z\" or \"0\" <= ch <= \"9\")\n"
   ]
  },
  {
   "cell_type": "code",
   "execution_count": 199,
   "metadata": {},
   "outputs": [
    {
     "data": {
      "text/plain": [
       "True"
      ]
     },
     "execution_count": 199,
     "metadata": {},
     "output_type": "execute_result"
    }
   ],
   "source": [
    "#was to check the given chr is vowel\n",
    "ch = 'A'\n",
    "ch in \"aeiouAEIOU\""
   ]
  }
 ],
 "metadata": {
  "kernelspec": {
   "display_name": "Python 3",
   "language": "python",
   "name": "python3"
  },
  "language_info": {
   "codemirror_mode": {
    "name": "ipython",
    "version": 3
   },
   "file_extension": ".py",
   "mimetype": "text/x-python",
   "name": "python",
   "nbconvert_exporter": "python",
   "pygments_lexer": "ipython3",
   "version": "3.10.6"
  },
  "orig_nbformat": 4
 },
 "nbformat": 4,
 "nbformat_minor": 2
}
