{
 "cells": [
  {
   "cell_type": "code",
   "execution_count": 152,
   "metadata": {},
   "outputs": [
    {
     "name": "stdout",
     "output_type": "stream",
     "text": [
      "positive\n"
     ]
    }
   ],
   "source": [
    "#1. wap to check whether a number is positive. if positive , print positive\n",
    "n=12\n",
    "if n>0:\n",
    "    print(\"positive\")"
   ]
  },
  {
   "cell_type": "code",
   "execution_count": 153,
   "metadata": {},
   "outputs": [
    {
     "name": "stdout",
     "output_type": "stream",
     "text": [
      "hello world\n"
     ]
    }
   ],
   "source": [
    "#2 wap to display hello world if the number is greater than 1 and lesser than 5\n",
    "n= 4\n",
    "if 1<n<5:\n",
    "    print(\"hello world\")"
   ]
  },
  {
   "cell_type": "code",
   "execution_count": 154,
   "metadata": {},
   "outputs": [
    {
     "name": "stdout",
     "output_type": "stream",
     "text": [
      "fizz\n"
     ]
    }
   ],
   "source": [
    "#3. wap to check whether the given number is divisible by 3 or not if yes print fizz\n",
    "n =39\n",
    "if n%3==0:\n",
    "    print(\"fizz\")"
   ]
  },
  {
   "cell_type": "code",
   "execution_count": 155,
   "metadata": {},
   "outputs": [
    {
     "name": "stdout",
     "output_type": "stream",
     "text": [
      "(36+0j)\n"
     ]
    }
   ],
   "source": [
    "#4. wap to check whether given input is divisible by 2 and 6. if the condition is satisfied, covert  the given number into complex number\n",
    "n =36\n",
    "if n%2==0 and n%6==0:\n",
    "    m=complex(n)\n",
    "    print(m)"
   ]
  },
  {
   "cell_type": "code",
   "execution_count": 156,
   "metadata": {},
   "outputs": [
    {
     "name": "stdout",
     "output_type": "stream",
     "text": [
      "['3', '0']\n"
     ]
    }
   ],
   "source": [
    "#5.wap to check whether a given i/p is divisible by 3 and 5. if the condition is satisfied, the number is converted to a list\n",
    "n = 30\n",
    "if n%3==0 and n%6==0:\n",
    "    m=list(str(n))\n",
    "    print(m)"
   ]
  },
  {
   "cell_type": "code",
   "execution_count": 157,
   "metadata": {},
   "outputs": [
    {
     "name": "stdout",
     "output_type": "stream",
     "text": [
      "true\n"
     ]
    }
   ],
   "source": [
    "#6. write a progeram to check whether a given number is multiple of 5 or not\n",
    "n = 25\n",
    "if (n%10==0)%5==0:\n",
    "    print(\"true\")"
   ]
  },
  {
   "cell_type": "code",
   "execution_count": 158,
   "metadata": {},
   "outputs": [
    {
     "name": "stdout",
     "output_type": "stream",
     "text": [
      "negative\n"
     ]
    }
   ],
   "source": [
    "#7. wap to check whether a num is -ve. if -ve, print a msg -ve\n",
    "n= -673\n",
    "if n<0:\n",
    "    print(\"negative\")"
   ]
  },
  {
   "cell_type": "code",
   "execution_count": 159,
   "metadata": {},
   "outputs": [
    {
     "name": "stdout",
     "output_type": "stream",
     "text": [
      "0\n"
     ]
    }
   ],
   "source": [
    "#8. wap to check whether the given input is 0 or not .if 0, print 0\n",
    "n = 0\n",
    "if 0 == 0:\n",
    "    print(\"0\")"
   ]
  },
  {
   "cell_type": "code",
   "execution_count": 160,
   "metadata": {},
   "outputs": [
    {
     "name": "stdout",
     "output_type": "stream",
     "text": [
      "[12, 34, 'fdg', 22]\n"
     ]
    }
   ],
   "source": [
    "#9. wap to check whether a num is even or not . if even, store the value inside the list\n",
    "n = 22\n",
    "l = [12,34,\"fdg\"]\n",
    "if n%2==0:\n",
    "    l +=[n]\n",
    "    print(l)"
   ]
  },
  {
   "cell_type": "code",
   "execution_count": 161,
   "metadata": {},
   "outputs": [
    {
     "name": "stdout",
     "output_type": "stream",
     "text": [
      "(12, 34, 32, 23)\n"
     ]
    }
   ],
   "source": [
    "#10. wap to check whether a num is odd or not. if odd, store the value insde the tuple.\n",
    "n = 23\n",
    "t=(12 ,34 ,32)\n",
    "if n%2!=0:\n",
    "    t +=(n,)\n",
    "    print(t)"
   ]
  },
  {
   "cell_type": "code",
   "execution_count": 162,
   "metadata": {},
   "outputs": [
    {
     "name": "stdout",
     "output_type": "stream",
     "text": [
      "2517630976\n"
     ]
    }
   ],
   "source": [
    "#11. wap to check if the given num evn or not . if yes, to print the power of 4 in a given number\n",
    "n=224\n",
    "if n%2==0:\n",
    "    print(n**4)"
   ]
  },
  {
   "cell_type": "code",
   "execution_count": 163,
   "metadata": {},
   "outputs": [
    {
     "name": "stdout",
     "output_type": "stream",
     "text": [
      "(364+162j)\n"
     ]
    }
   ],
   "source": [
    "#12. wap to take the i/p from the user as a number and check whether it is a num or not. if yes,take the num  and add some value and print it\n",
    "n = 341+86j\n",
    "if \"0<n<9\":\n",
    "    print(n+23+76j)"
   ]
  },
  {
   "cell_type": "code",
   "execution_count": 164,
   "metadata": {},
   "outputs": [
    {
     "name": "stdout",
     "output_type": "stream",
     "text": [
      "hello world\n"
     ]
    }
   ],
   "source": [
    "#13 wap to display hello world  if the number is greater than 1 and less than 5\n",
    "n=2\n",
    "if 1<n<5:\n",
    "    print(\"hello world\")"
   ]
  },
  {
   "cell_type": "code",
   "execution_count": 165,
   "metadata": {},
   "outputs": [
    {
     "name": "stdout",
     "output_type": "stream",
     "text": [
      "1225\n"
     ]
    }
   ],
   "source": [
    "#14 wap to check whether the given value is divisible by 5  and 7 . if the value is divisible, to display the square of the values\n",
    "n = 35\n",
    "if n%5==0 and n%7==0:\n",
    "    print(n**2)"
   ]
  },
  {
   "cell_type": "code",
   "execution_count": 166,
   "metadata": {},
   "outputs": [],
   "source": [
    "#15 WAP to check whether the given value's last digit is greater than 5 or not.if greater, to perform the bitwise right shift operator (skipping value is 2)"
   ]
  },
  {
   "cell_type": "code",
   "execution_count": 167,
   "metadata": {},
   "outputs": [
    {
     "name": "stdout",
     "output_type": "stream",
     "text": [
      "13\n"
     ]
    }
   ],
   "source": [
    "n =54\n",
    "if (n%10==0)<5:\n",
    "    \n",
    "    print(n>>2)"
   ]
  },
  {
   "cell_type": "code",
   "execution_count": 168,
   "metadata": {},
   "outputs": [
    {
     "name": "stdout",
     "output_type": "stream",
     "text": [
      "729\n"
     ]
    }
   ],
   "source": [
    "#16 WAP to check whether a given value is divisible by 3 and less than 30. If the value is divisible,to display the square of the values.\n",
    "n = 27\n",
    "if n%3==0 and n<30:\n",
    "    print(n**2)\n"
   ]
  },
  {
   "cell_type": "code",
   "execution_count": 169,
   "metadata": {},
   "outputs": [
    {
     "name": "stdout",
     "output_type": "stream",
     "text": [
      "13824\n"
     ]
    }
   ],
   "source": [
    "#17 WAP to check whether a given value is an even number and divisible by 4. If satisfied ,to display the cube of the values.\n",
    "n =24\n",
    "if (n%2==0) and (n%4==0):\n",
    "    print(n**3)"
   ]
  },
  {
   "cell_type": "code",
   "execution_count": 170,
   "metadata": {},
   "outputs": [
    {
     "name": "stdout",
     "output_type": "stream",
     "text": [
      "[12, 34, 'frrg', 234]\n"
     ]
    }
   ],
   "source": [
    "#18 WAP to check whether a given value is even or not. If the even number stores the value inside the list\n",
    "n = 234\n",
    "if n%2==0:\n",
    "    m=[12 , 34,\"frrg\"]\n",
    "    m +=[n]\n",
    "    print(m)    "
   ]
  },
  {
   "cell_type": "code",
   "execution_count": 171,
   "metadata": {},
   "outputs": [
    {
     "name": "stdout",
     "output_type": "stream",
     "text": [
      "False\n"
     ]
    }
   ],
   "source": [
    "#19 WAP to check whether a given value is a negative or even number. If satisfied ,to display the last digit of the values\n",
    "n=-84\n",
    "if n<0 or n%2==0:\n",
    "    m = (n%10==0)\n",
    "    print(m)\n"
   ]
  },
  {
   "cell_type": "code",
   "execution_count": 172,
   "metadata": {},
   "outputs": [
    {
     "name": "stdout",
     "output_type": "stream",
     "text": [
      "-571787\n"
     ]
    }
   ],
   "source": [
    "#20 WAP to check whether a given value is a negative or odd number and divisible by 4. If satisfied ,to display the cube of the values.\n",
    "n = -83\n",
    "if n<0 or n%2!=0 and n%4==0:\n",
    "    print(n**3)"
   ]
  },
  {
   "cell_type": "code",
   "execution_count": 173,
   "metadata": {},
   "outputs": [
    {
     "name": "stdout",
     "output_type": "stream",
     "text": [
      "B\n"
     ]
    }
   ],
   "source": [
    "#21 WAP to check whether a given ascii value is divisible by 4 and even value. If satisfied, to display the ascii character\n",
    "n = 66\n",
    "if 'chr(n)%4==0' and n%2==0:\n",
    "    print(chr(n))\n"
   ]
  },
  {
   "cell_type": "code",
   "execution_count": 174,
   "metadata": {},
   "outputs": [
    {
     "name": "stdout",
     "output_type": "stream",
     "text": [
      "x\n"
     ]
    }
   ],
   "source": [
    "#22 WAP to check whether a given value is present in between 45 to 125 and the number should be divisible by 4 and 5 and even value. If satisfied, to display the ascii character.\n",
    "n=120\n",
    "if 45<n<125 and n%4==0 and n%5==0 and n%2==0:\n",
    "    print(chr(n))\n"
   ]
  },
  {
   "cell_type": "code",
   "execution_count": 175,
   "metadata": {},
   "outputs": [
    {
     "name": "stdout",
     "output_type": "stream",
     "text": [
      "400\n"
     ]
    }
   ],
   "source": [
    "#23 WAP to check whether a given value is present in between 25 to 100 and the number should be divisible by 4 and 5. If satisfied, to display multiplication of given value with 5.\n",
    "n = 80\n",
    "if 25<n<100 and n%4==0 and n%5==0:\n",
    "    print(n*5)"
   ]
  },
  {
   "cell_type": "code",
   "execution_count": 176,
   "metadata": {},
   "outputs": [
    {
     "name": "stdout",
     "output_type": "stream",
     "text": [
      "2\n"
     ]
    }
   ],
   "source": [
    "#24 WAP to check whether a given number is an integer and odd number. If the condition is satisfied, the integer is divisible by 5 and displays the result.\n",
    "n = 657\n",
    "if type(n)==int and n%2!=0 :\n",
    "    print(n%5)"
   ]
  },
  {
   "cell_type": "code",
   "execution_count": 177,
   "metadata": {},
   "outputs": [
    {
     "name": "stdout",
     "output_type": "stream",
     "text": [
      "5856\n"
     ]
    }
   ],
   "source": [
    "#25 WAP to check whether a given number is an integer and odd number. If the condition is satisfied, the integer is divisible by 5 and displays the result.\n",
    "n =5856\n",
    "if type(n)==int:\n",
    "    m=str(n)\n",
    "    print(m)"
   ]
  },
  {
   "cell_type": "code",
   "execution_count": 178,
   "metadata": {},
   "outputs": [
    {
     "name": "stdout",
     "output_type": "stream",
     "text": [
      "v\n"
     ]
    }
   ],
   "source": [
    "#26 WAP to check whether a given value is less than 125 and greater than 60 or not. If the condition is satisfied, take the name and extract the middle character and display it\n",
    "n = 70\n",
    "if 60<n<125:\n",
    "    m = \"jhjsvcie\"\n",
    "    h=m[len(m)//2]\n",
    "    print(h)"
   ]
  },
  {
   "cell_type": "code",
   "execution_count": 179,
   "metadata": {},
   "outputs": [
    {
     "name": "stdout",
     "output_type": "stream",
     "text": [
      "20\n"
     ]
    }
   ],
   "source": [
    "#27 WAP to check whether a given two integers are equal or not. If both are equal, to perform addition and display the result\n",
    "n=10\n",
    "m=10\n",
    "if n==m:\n",
    "    print(n+m)\n",
    "    "
   ]
  },
  {
   "cell_type": "code",
   "execution_count": 180,
   "metadata": {},
   "outputs": [
    {
     "name": "stdout",
     "output_type": "stream",
     "text": [
      "1\n"
     ]
    }
   ],
   "source": [
    "#28 WAP to check whether two values are equal or not. if equal, to perform multiplication of two numbers and that result is division by 3 and display the value.\n",
    "n = 34\n",
    "m =34\n",
    "if n == m:\n",
    "    print((n*m)%3)"
   ]
  },
  {
   "cell_type": "code",
   "execution_count": 181,
   "metadata": {},
   "outputs": [],
   "source": [
    "#29 WAP to check whether a character is in the alphabet or not. If the alphabet, store the value inside the dict(key as a character and value as an ascii value).\n"
   ]
  },
  {
   "cell_type": "code",
   "execution_count": 182,
   "metadata": {},
   "outputs": [
    {
     "name": "stdout",
     "output_type": "stream",
     "text": [
      "{'A': 66, 'B': 67, 'H': 72}\n"
     ]
    }
   ],
   "source": [
    "#30 WAP to check whether a character is in the uppercase or not. If the uppercase, store the value inside the dict(key as a character and value as an ascii value).\n",
    "n = 'H'\n",
    "if 'A'<=n<='Z' :\n",
    "    d = {'A':66, 'B':67}\n",
    "    d |={'H':ord('H')}\n",
    "    print(d)"
   ]
  },
  {
   "cell_type": "code",
   "execution_count": 183,
   "metadata": {},
   "outputs": [
    {
     "name": "stdout",
     "output_type": "stream",
     "text": [
      "{'A': 66, 'B': 67, 'H': 72}\n"
     ]
    }
   ],
   "source": [
    "#31 WAP to check whether a character is in the uppercase or not. If the uppercase, convert to lowercase and store the value inside the dict(character as a key and ascii value as a value).\n",
    "n='H'\n",
    "if \"'A'<=n<='Z'\":\n",
    "    \"A\" <= n<=\"B\"=='a'<=n<='b'\n",
    "    d=  {'A':66, 'B':67}\n",
    "    d |={'H':ord('H')}\n",
    "    print(d)"
   ]
  },
  {
   "cell_type": "code",
   "execution_count": 184,
   "metadata": {},
   "outputs": [
    {
     "name": "stdout",
     "output_type": "stream",
     "text": [
      "eeeeeeeeeeee\n"
     ]
    }
   ],
   "source": [
    "#32 WAP to check whether a character is in the lowercase or not. If the lowercase, to perform the replication operation on that character.\n",
    "n=\"e\"\n",
    "if \"'a'<=n<='z'\":\n",
    "    print(n*12)"
   ]
  },
  {
   "cell_type": "code",
   "execution_count": 185,
   "metadata": {},
   "outputs": [
    {
     "name": "stdout",
     "output_type": "stream",
     "text": [
      "97\n"
     ]
    }
   ],
   "source": [
    "#33 WAP to check whether a character is in the ascii number or not. If the ascii number, to convert into integer\n",
    "n = 'a'\n",
    "if 'n == ord(n)':\n",
    "    m=ord(n)\n",
    "    print(m)\n"
   ]
  },
  {
   "cell_type": "code",
   "execution_count": 186,
   "metadata": {},
   "outputs": [
    {
     "name": "stdout",
     "output_type": "stream",
     "text": [
      "36\n"
     ]
    }
   ],
   "source": [
    "#34 WAP to check whether a character is in the special symbol or not. If the special symbol, to display a symbol with ascii value\n",
    "n =\"$\"\n",
    "if not('a'<=n<='b'  and 'A'<=n<='B' and '0'<=n<='9'):\n",
    "    m=ord(n)\n",
    "    print(m)"
   ]
  },
  {
   "cell_type": "code",
   "execution_count": 187,
   "metadata": {},
   "outputs": [
    {
     "name": "stdout",
     "output_type": "stream",
     "text": [
      "2434\n"
     ]
    }
   ],
   "source": [
    "#35 WAP to check whether a character is an even number or not. If the even number, to display an even number.\n",
    "n=2434\n",
    "if  n%2==0:\n",
    "    print(n)"
   ]
  },
  {
   "cell_type": "code",
   "execution_count": 188,
   "metadata": {},
   "outputs": [
    {
     "name": "stdout",
     "output_type": "stream",
     "text": [
      "60\n"
     ]
    }
   ],
   "source": [
    "#36 WAP to check whether a Given two integers a and b, if any of the integers is 10 or if their sum is 10, to perform the sum of the numbers and to display the square  the result.\n",
    "a=10\n",
    "b=20\n",
    "if (a==10) or (b==10) or (a+b==10):\n",
    "    c=a+b\n",
    "    print(c*2)\n"
   ]
  },
  {
   "cell_type": "code",
   "execution_count": 189,
   "metadata": {},
   "outputs": [
    {
     "name": "stdout",
     "output_type": "stream",
     "text": [
      "102\n"
     ]
    }
   ],
   "source": [
    "#37 WAP to check whether a character is in the vowel or not. If the vowel,print the next character\n",
    "a='e'\n",
    "if a in \"aeiouAEIOU\":\n",
    "    b=(ord(a)+1)\n",
    "    print(b)"
   ]
  },
  {
   "cell_type": "code",
   "execution_count": 190,
   "metadata": {},
   "outputs": [
    {
     "name": "stdout",
     "output_type": "stream",
     "text": [
      "111\n"
     ]
    }
   ],
   "source": [
    "#38 WAP to check whether a character is in the not a vowel. If it's not a vowel,print the previous character.\n",
    "a='p'\n",
    "if a not in \"aeiouAEIOU\":\n",
    "    b=(ord(a)-1)\n",
    "    print(b)"
   ]
  },
  {
   "cell_type": "code",
   "execution_count": 191,
   "metadata": {},
   "outputs": [
    {
     "name": "stdout",
     "output_type": "stream",
     "text": [
      "45.8\n"
     ]
    }
   ],
   "source": [
    "#39 WAP to check whether a given value is a single value data type or not. If single value, display the given value as a single value data type.\n",
    "a =45.8\n",
    "if type(a) in [int,float,complex,bytes,bool]:\n",
    "    print(a)"
   ]
  },
  {
   "cell_type": "code",
   "execution_count": 192,
   "metadata": {},
   "outputs": [
    {
     "name": "stdout",
     "output_type": "stream",
     "text": [
      "(435, 23, 46, 'fhrxf')\n"
     ]
    }
   ],
   "source": [
    "#40 WAP to check whether a given value is a multi-value data type or not. If multi value, store the given value inside the tuple and display it.\n",
    "a = (23,46,\"fhrxf\")\n",
    "b=(435,)\n",
    "if type(a) in [list,tuple,str,set,dict]:\n",
    "    b+=(a)\n",
    "    print(b)"
   ]
  },
  {
   "cell_type": "code",
   "execution_count": 193,
   "metadata": {},
   "outputs": [
    {
     "ename": "TypeError",
     "evalue": "unhashable type: 'list'",
     "output_type": "error",
     "traceback": [
      "\u001b[1;31m---------------------------------------------------------------------------\u001b[0m",
      "\u001b[1;31mTypeError\u001b[0m                                 Traceback (most recent call last)",
      "Cell \u001b[1;32mIn[193], line 5\u001b[0m\n\u001b[0;32m      3\u001b[0m c\u001b[39m=\u001b[39m{\u001b[39m343\u001b[39m,\u001b[39m2335\u001b[39m,\u001b[39m132\u001b[39m}\n\u001b[0;32m      4\u001b[0m \u001b[39mif\u001b[39;00m \u001b[39mtype\u001b[39m(s) \u001b[39min\u001b[39;00m [\u001b[39mlist\u001b[39m,\u001b[39mset\u001b[39m,\u001b[39mdict\u001b[39m]:\n\u001b[1;32m----> 5\u001b[0m     s\u001b[39m|\u001b[39m\u001b[39m=\u001b[39m{s}\n\u001b[0;32m      6\u001b[0m     \u001b[39mprint\u001b[39m(c)\n",
      "\u001b[1;31mTypeError\u001b[0m: unhashable type: 'list'"
     ]
    }
   ],
   "source": [
    "#41 WAP to check whether a given value is an immutable data type or not. If an immutable data type value, store the given value inside the set and display it.\n",
    "s=[342,54,67]\n",
    "c={343,2335,132}\n",
    "if type(s) in [list,set,dict]:\n",
    "    s|={s}\n",
    "    print(c)\n"
   ]
  },
  {
   "cell_type": "code",
   "execution_count": null,
   "metadata": {},
   "outputs": [
    {
     "name": "stdout",
     "output_type": "stream",
     "text": [
      "57\n"
     ]
    }
   ],
   "source": [
    "#42 WAP to check whether the middle element of a given list is odd or not. If it is odd then print odd then print the number else directly print the number.\n",
    "n = [23,45,57,34,12]\n",
    "if n[len(n)//2]%2!=0:\n",
    "    print(n[len(n)//2])\n"
   ]
  },
  {
   "cell_type": "code",
   "execution_count": null,
   "metadata": {},
   "outputs": [
    {
     "name": "stdout",
     "output_type": "stream",
     "text": [
      "not hivur dkuuhw\n"
     ]
    }
   ],
   "source": [
    "#43 WAP Return a new string with \"not\" prefixed to the front of the original string. Return the string unmodified if the string already has the word \"not\" at the beinning.\n",
    "n=\"hivur dkuuhw\"\n",
    "m=\"not \"+n[::1]\n",
    "if n!=m:\n",
    "    print(m)\n"
   ]
  },
  {
   "cell_type": "code",
   "execution_count": null,
   "metadata": {},
   "outputs": [],
   "source": [
    "#44 WAP to check whether a given string(str) and one integer(n) value, to display a new tring that is devoid of the character at index n. if you are given a non-empty string and an int n. The value of n will be a legitimate character index from the original string, therefore it will fall within the range of 0 to len(str)-1, inclusive.\n"
   ]
  },
  {
   "cell_type": "code",
   "execution_count": null,
   "metadata": {},
   "outputs": [
    {
     "name": "stdout",
     "output_type": "stream",
     "text": [
      "2855467155984 2855467155984\n"
     ]
    }
   ],
   "source": [
    "#45 WAP to check whether the two variables are pointing to the same memory location or not if they are pointing to the same memory location then print the address of both the variables.\n",
    "a=10\n",
    "b=10\n",
    "if id(a)==id(b):\n",
    "    print(id(a),id(b))\n"
   ]
  },
  {
   "cell_type": "code",
   "execution_count": null,
   "metadata": {},
   "outputs": [
    {
     "name": "stdout",
     "output_type": "stream",
     "text": [
      "buciwuw\n"
     ]
    }
   ],
   "source": [
    "#46 WAP to check whether the given length of the string is even or not. If the condition is satisfied, display the sequence of characters from zero position to length of collection -2.\n",
    "s =\"buciwuwcnd\"\n",
    "if len(s)%2==0:\n",
    "    print(s[0:7:1])"
   ]
  },
  {
   "cell_type": "code",
   "execution_count": null,
   "metadata": {},
   "outputs": [
    {
     "name": "stdout",
     "output_type": "stream",
     "text": [
      "daf sff\n"
     ]
    }
   ],
   "source": [
    "#47 WAP to check whether the two given strings are having the same values or not. If both are not the same values then swap the values of one variable to another variable after swapping print the two values.\n",
    "a =\"sff\"\n",
    "b=\"daf\"\n",
    "if a!=b:\n",
    "    (a,b)=(b,a)\n",
    "    print(a,b)"
   ]
  },
  {
   "cell_type": "code",
   "execution_count": null,
   "metadata": {},
   "outputs": [
    {
     "name": "stdout",
     "output_type": "stream",
     "text": [
      "{'$': 36}\n"
     ]
    }
   ],
   "source": [
    "#48 WAP to check whether a given character is a special symbol or not. If satisfied, store the symbol as a key and value as a ascii value of the given character inside the dictionary.\n",
    "n=\"$\"\n",
    "if not('a'<=n<='z' and 'A'<=n<='Z' and '0'<=n<='9'):\n",
    "    r={n:ord(n)}\n",
    "    print(r)"
   ]
  },
  {
   "cell_type": "code",
   "execution_count": null,
   "metadata": {},
   "outputs": [],
   "source": []
  },
  {
   "cell_type": "code",
   "execution_count": null,
   "metadata": {},
   "outputs": [
    {
     "name": "stdout",
     "output_type": "stream",
     "text": [
      "{'A': 65, 'B': 66, 'c': 67, 'D': 68}\n"
     ]
    }
   ],
   "source": [
    "#49 WAP to check whether a given key is not present in the dictionary or not. If the key is not present, append the new key inside the dictionary.\n",
    "c='A'\n",
    "d = {'A':65,'B':66,'c':67}\n",
    "if c in d:\n",
    "    d|={'D':68}\n",
    "    print(d)\n"
   ]
  },
  {
   "cell_type": "code",
   "execution_count": null,
   "metadata": {},
   "outputs": [
    {
     "name": "stdout",
     "output_type": "stream",
     "text": [
      "sovhr\n"
     ]
    }
   ],
   "source": [
    "#50 WAP whether a given string, and it displays a new string with the first and last characters switched.\n",
    "st=\"rovhs\"\n",
    "if str == type(st):\n",
    "     m=chr(ord(st[-1]))+st[1:len(st)-1]+chr(ord(st[0]))\n",
    "     print(m)\n",
    "\n"
   ]
  },
  {
   "cell_type": "code",
   "execution_count": null,
   "metadata": {},
   "outputs": [
    {
     "data": {
      "text/plain": [
       "115"
      ]
     },
     "execution_count": 199,
     "metadata": {},
     "output_type": "execute_result"
    }
   ],
   "source": [
    "n='s'\n",
    "ord(n)"
   ]
  },
  {
   "cell_type": "code",
   "execution_count": null,
   "metadata": {},
   "outputs": [
    {
     "name": "stdout",
     "output_type": "stream",
     "text": [
      "2\n"
     ]
    }
   ],
   "source": [
    "#51 WAP whether a given string, and it displays a new string with the first and last characters switched.\n",
    "n=9852\n",
    "if n%10==2:\n",
    "    print(n%10)\n"
   ]
  },
  {
   "cell_type": "code",
   "execution_count": null,
   "metadata": {},
   "outputs": [
    {
     "name": "stdout",
     "output_type": "stream",
     "text": [
      "8100\n"
     ]
    }
   ],
   "source": [
    "#52 WAP to check whether a Given two integers a and b, if any of the integers is 10 or if their sum is 10, to perform the sum of the numbers and to display the square of the result.\n",
    "a=10\n",
    "b=80\n",
    "if a==10 or b==10 or a+b==10:\n",
    "    c=a+b\n",
    "    print(c**2)"
   ]
  },
  {
   "cell_type": "code",
   "execution_count": null,
   "metadata": {},
   "outputs": [],
   "source": [
    "#53 WAP to check whether a given string(str) and one integer(n) value, to display a new string that is devoid of the character at index n. if you are given a non-empty string and an int n. The value of n will be a legitimate character index from the original string, therefore it will fall within the range of 0 to len(str)-1, inclusive.\n"
   ]
  },
  {
   "cell_type": "code",
   "execution_count": null,
   "metadata": {},
   "outputs": [],
   "source": [
    "#54 WAP to check whether both string collections are equal or not if it is not equal print the both strings along with the length of a string if both are equal ignore it"
   ]
  },
  {
   "cell_type": "markdown",
   "metadata": {},
   "source": [
    "#if else loops"
   ]
  },
  {
   "cell_type": "code",
   "execution_count": null,
   "metadata": {},
   "outputs": [
    {
     "name": "stdout",
     "output_type": "stream",
     "text": [
      "positive\n"
     ]
    }
   ],
   "source": [
    "#1 WAP to check whether a number is positive or negative. If Positive print positive \n",
    "#message or else print Negative Number.\n",
    "n = 34\n",
    "if n > 0:\n",
    "    print(\"positive\")\n",
    "else:\n",
    "    print(\"negative\")\n"
   ]
  },
  {
   "cell_type": "code",
   "execution_count": null,
   "metadata": {},
   "outputs": [
    {
     "name": "stdout",
     "output_type": "stream",
     "text": [
      "even\n"
     ]
    }
   ],
   "source": [
    "#2 WAP to check whether a number is even or odd. If even, print message an even \n",
    "#or else print message as odd.\n",
    "n=34\n",
    "if n%2==0:\n",
    "    print(\"even\")\n",
    "else:\n",
    "    print(\"odd\")"
   ]
  },
  {
   "cell_type": "code",
   "execution_count": null,
   "metadata": {},
   "outputs": [
    {
     "name": "stdout",
     "output_type": "stream",
     "text": [
      "greater\n"
     ]
    }
   ],
   "source": [
    "#3 Write a program to check whether a given number is greater than 10 or not. if it \n",
    "#is greater than 10 print message as greater or else print that number with not a \n",
    "#greater than\n",
    "n=42\n",
    "if n>10:\n",
    "    print(\"greater\")\n",
    "else:\n",
    "    print(\"not greater\")"
   ]
  },
  {
   "cell_type": "code",
   "execution_count": null,
   "metadata": {},
   "outputs": [
    {
     "name": "stdout",
     "output_type": "stream",
     "text": [
      "Good morng\n"
     ]
    }
   ],
   "source": [
    "#4 WAP to check whether the given two input numbers are divisible by 3 and 5. If it \n",
    "#is divisible, print “Good Morning”, if it is not divisible print “Good Evening”.\n",
    "a=15\n",
    "b=30\n",
    "if a%3==0 and b%3==0 and a%5==0 and b%5==0:\n",
    "    print(\"Good morng\")\n",
    "else:\n",
    "    print(\"good evng\")"
   ]
  },
  {
   "cell_type": "code",
   "execution_count": null,
   "metadata": {},
   "outputs": [
    {
     "name": "stdout",
     "output_type": "stream",
     "text": [
      "0\n"
     ]
    }
   ],
   "source": [
    "#5 WAP to accept two integers and check whether those two values are equal or not.\n",
    "#If equal, multiply to value or else to display the quotation value\n",
    "a=10\n",
    "b=10\n",
    "if  a==b:\n",
    "    print(a*b)\n",
    "else:\n",
    "    print(a/b)"
   ]
  },
  {
   "cell_type": "code",
   "execution_count": null,
   "metadata": {},
   "outputs": [
    {
     "name": "stdout",
     "output_type": "stream",
     "text": [
      "42 is greatest\n"
     ]
    }
   ],
   "source": [
    "#6 WAP to find the largest of two numbers\n",
    "a=34\n",
    "b=42\n",
    "if a>b:\n",
    "    print(a ,\"is greatest\")\n",
    "else:\n",
    "    print(b,'is greatest')"
   ]
  },
  {
   "cell_type": "code",
   "execution_count": null,
   "metadata": {},
   "outputs": [
    {
     "name": "stdout",
     "output_type": "stream",
     "text": [
      "34 is greater\n"
     ]
    }
   ],
   "source": [
    "#7 WAP to check whether the input number is greater than 10 or not if it is greater \n",
    "#than 10 print messages as greater with number. if it is not a greater than 10 print \n",
    "#that number.\n",
    "a=34\n",
    "if a>10:\n",
    "    print(a,\"is greater\")\n",
    "else:\n",
    "    print(a)\n",
    "\n"
   ]
  },
  {
   "cell_type": "code",
   "execution_count": null,
   "metadata": {},
   "outputs": [
    {
     "name": "stdout",
     "output_type": "stream",
     "text": [
      "33\n"
     ]
    }
   ],
   "source": [
    "#8 WAP to the given number integer, if n is greater than 21,print the absolute \n",
    "#difference between n and 21 otherwise print twice the absolute difference\n",
    "n = 54\n",
    "if n >21:\n",
    "    print(n-21)\n",
    "else:\n",
    "    print((n-21)*2)"
   ]
  },
  {
   "cell_type": "code",
   "execution_count": null,
   "metadata": {},
   "outputs": [
    {
     "name": "stdout",
     "output_type": "stream",
     "text": [
      "65 is smallest\n"
     ]
    }
   ],
   "source": [
    "#9 WAP to find the smallest of two numbers.\n",
    "n = 75\n",
    "m=65\n",
    "if n<m:\n",
    "    print(n,\"is smallest\")\n",
    "else:\n",
    "    print(m,\"is smallest\")"
   ]
  },
  {
   "cell_type": "code",
   "execution_count": null,
   "metadata": {},
   "outputs": [
    {
     "name": "stdout",
     "output_type": "stream",
     "text": [
      "77\n"
     ]
    }
   ],
   "source": [
    "#10 WAP to check whether the given number is even or odd. If it is even then make \n",
    "#it as an add number, if it is an odd number then make it as even number.\n",
    "n = 76\n",
    "if n%2==0:\n",
    "    print(n+1)\n",
    "else:\n",
    "    print(n+2)"
   ]
  },
  {
   "cell_type": "code",
   "execution_count": null,
   "metadata": {},
   "outputs": [
    {
     "name": "stdout",
     "output_type": "stream",
     "text": [
      "21\n"
     ]
    }
   ],
   "source": [
    "#11 WAP to check whether the given number is divisible by 3 or not if yes, print the \n",
    "#number or else print the cube of the numbers.\n",
    "n = 21\n",
    "if n%3==0:\n",
    "    print(n)\n",
    "else:\n",
    "    print(n**3)"
   ]
  },
  {
   "cell_type": "code",
   "execution_count": null,
   "metadata": {},
   "outputs": [
    {
     "name": "stdout",
     "output_type": "stream",
     "text": [
      "30\n"
     ]
    }
   ],
   "source": [
    "#12 WAP to check whether the given input is divisible by 3 and 5. If yes print the \n",
    "#actual number or else print string of that number.\n",
    "n = 30\n",
    "\n",
    "if n%5==0 and n%3==0:\n",
    "    print(n)\n",
    "else:\n",
    "    m=str(n)\n",
    "    print(m)"
   ]
  },
  {
   "cell_type": "code",
   "execution_count": null,
   "metadata": {},
   "outputs": [
    {
     "name": "stdout",
     "output_type": "stream",
     "text": [
      "169\n"
     ]
    }
   ],
   "source": [
    "#13 WAP to check whether the given number lies between 1 to 19, if it is true square \n",
    "#that number or else false cube that number and display the number.\n",
    "n =13\n",
    "if 1<n<19:\n",
    "    print(n**2)\n",
    "else:\n",
    "    print(n**3)"
   ]
  },
  {
   "cell_type": "code",
   "execution_count": null,
   "metadata": {},
   "outputs": [
    {
     "name": "stdout",
     "output_type": "stream",
     "text": [
      "pass 41\n"
     ]
    }
   ],
   "source": [
    "#14 WAP to check whether the student has passed or failed. If the student got more \n",
    "#than 40 marks, print ‘PASS’ along with those marks, if it is not printed ‘FAIL’ along \n",
    "#with those marks.\n",
    "student_mrks=41\n",
    "if student_mrks>40:\n",
    "    print(\"pass\",student_mrks)\n",
    "else:\n",
    "    print(\"fail\",student_mrks)"
   ]
  },
  {
   "cell_type": "code",
   "execution_count": null,
   "metadata": {},
   "outputs": [
    {
     "name": "stdout",
     "output_type": "stream",
     "text": [
      "2\n"
     ]
    }
   ],
   "source": [
    "#15 WAP to check whether a given value is even and in range of 47 to 58 and not in 0 \n",
    "#or odd. if condition is True, to perform display the ascii character. or else to \n",
    "#perform floor division with 5 and display it.\n",
    "n=50\n",
    "if n%2==0 and 47<n<58:\n",
    "    print(chr(n))\n",
    "else:\n",
    "    print(n//5)\n"
   ]
  },
  {
   "cell_type": "code",
   "execution_count": null,
   "metadata": {},
   "outputs": [
    {
     "name": "stdout",
     "output_type": "stream",
     "text": [
      "[174]\n"
     ]
    }
   ],
   "source": [
    "#16 WAP to check whether a given value is less than 125 and in between 47 to 125 or \n",
    "#not. if condition is True, to perform store the given value as key and value as a \n",
    "#character into the dict or else to append the value in list and display it\n",
    "n=74\n",
    "if n<125 and 47<n<125 :\n",
    "    m={n:chr(n)}\n",
    "    print(m)\n",
    "else:\n",
    "    l=[]\n",
    "    l+=[n]\n",
    "    print(l)"
   ]
  },
  {
   "cell_type": "code",
   "execution_count": null,
   "metadata": {},
   "outputs": [
    {
     "name": "stdout",
     "output_type": "stream",
     "text": [
      "d 100\n"
     ]
    }
   ],
   "source": [
    "#17 WAP to check whether a given character is in the alphabet or not. if alphabet, \n",
    "#display the alphabet with character or else display the not alphabet with \n",
    "#character.\n",
    "ch='d'\n",
    "if 'a'<=ch<='z' and 'A'<=ch<='Z':\n",
    "    print(ch,ord(ch))\n",
    "else:\n",
    "    print(ch)\n"
   ]
  },
  {
   "cell_type": "code",
   "execution_count": null,
   "metadata": {},
   "outputs": [
    {
     "name": "stdout",
     "output_type": "stream",
     "text": [
      "uppercase A\n"
     ]
    }
   ],
   "source": [
    "#18 . WAP to check whether a given character is uppercase or other \n",
    "#character. if uppercase, display the uppercase with character or else\n",
    "#display the othercharacter with character.\n",
    "ch='A'\n",
    "if 'A'<=ch<='B':\n",
    "    print(\"uppercase\",ch)\n",
    "else:\n",
    "    print(ch)"
   ]
  },
  {
   "cell_type": "code",
   "execution_count": null,
   "metadata": {},
   "outputs": [
    {
     "name": "stdout",
     "output_type": "stream",
     "text": [
      "lowercase a\n"
     ]
    }
   ],
   "source": [
    "#19  WAP to check whether a given character is lowercase or other \n",
    "#character. if lowercase, display the lowercase with character or else\n",
    "#display the other character with character.\n",
    "ch='a'\n",
    "if 'a'<=ch<='z':\n",
    "    print(\"lowercase\",ch)\n",
    "else:\n",
    "    print(ch)"
   ]
  },
  {
   "cell_type": "code",
   "execution_count": null,
   "metadata": {},
   "outputs": [
    {
     "name": "stdout",
     "output_type": "stream",
     "text": [
      "a\n"
     ]
    }
   ],
   "source": [
    "#20. WAP to check whether a given character is uppercase or other\n",
    "#character. ifuppercase, convert to lowercase .or else display the ascii\n",
    "#number.\n",
    "n='A'\n",
    "if 'A'<=n<='Z':\n",
    "    print(chr(ord(n)+32))\n",
    "    \n",
    "else:\n",
    "    print(ord(n))"
   ]
  },
  {
   "cell_type": "code",
   "execution_count": null,
   "metadata": {},
   "outputs": [
    {
     "name": "stdout",
     "output_type": "stream",
     "text": [
      "a\n"
     ]
    }
   ],
   "source": [
    "#21. WAP to check whether the given character is in lowercase or \n",
    "#uppercase. If it isin lowercase, convert it into uppercase, or else it is in \n",
    "#uppercase and convert itinto lowercase. Display the value.\n",
    "n='A'\n",
    "if 'a'<=n<='z':\n",
    "    m= chr(ord(n)-32)\n",
    "    print(m)\n",
    "else:\n",
    "    o= chr(ord(n)+32)\n",
    "    print(o)\n",
    "\n"
   ]
  },
  {
   "cell_type": "code",
   "execution_count": null,
   "metadata": {},
   "outputs": [
    {
     "name": "stdout",
     "output_type": "stream",
     "text": [
      "j\n"
     ]
    }
   ],
   "source": [
    "#22 WAP to check whether the given string of the first character is a special\n",
    "#symbol or not. If a special symbol, to extract and display the middle\n",
    "#character or else toreverse the string and display the half of the string\n",
    "m=\"k468kjfhse\"\n",
    "if m[0] not in (\"'a'<=m<='z'\" or \"'A'<=m<='Z'\" or \"'0'<=m<='9'\"):\n",
    "    n=m[len(m)//2]\n",
    "    print(n)\n",
    "else:\n",
    "    t=m[::-1]\n",
    "    f=(t[:len(t)//2:])\n",
    "    print(f)"
   ]
  },
  {
   "cell_type": "code",
   "execution_count": null,
   "metadata": {},
   "outputs": [
    {
     "name": "stdout",
     "output_type": "stream",
     "text": [
      "VOWEL\n"
     ]
    }
   ],
   "source": [
    "#23.WAP to check whether the input character is a vowel or not. If it is\n",
    "#vowel print‘VOWEL’ along with that character, if it is not just print\n",
    "#‘CONSONANT’.\n",
    "n='e'\n",
    "if n in 'aeiouAEIOU':\n",
    "    print(\"VOWEL\")\n",
    "else:\n",
    "    print(\"CONSONENT\")"
   ]
  },
  {
   "cell_type": "code",
   "execution_count": null,
   "metadata": {},
   "outputs": [
    {
     "name": "stdout",
     "output_type": "stream",
     "text": [
      "f\n"
     ]
    }
   ],
   "source": [
    "#24. WAP to check whether a given character is a vowel or consonant. if\n",
    "#vowel, toprint the next character of a given character or else print\n",
    "#previous characters\n",
    "n='e'\n",
    "if n in 'aeiouAEIOU':\n",
    "    print(chr(ord(n)+1))\n",
    "else:\n",
    "    print(chr(ord(n)-1))\n"
   ]
  },
  {
   "cell_type": "code",
   "execution_count": null,
   "metadata": {},
   "outputs": [
    {
     "name": "stdout",
     "output_type": "stream",
     "text": [
      "rvbkhbru\n"
     ]
    }
   ],
   "source": [
    "#25 5. WAP to check whether a given string of first character is alphabet or not\n",
    "#if the alphabet prints, reverse the string or else print the middle character\n",
    "m='urbhkbvr'\n",
    "if 'a'<=m[0]<='z' or 'A'<=m[0]<='Z':\n",
    "    s=m[-1::-1]\n",
    "    print(s)\n",
    "else:\n",
    "    print(m[len(m)//2])\n"
   ]
  },
  {
   "cell_type": "code",
   "execution_count": null,
   "metadata": {},
   "outputs": [
    {
     "name": "stdout",
     "output_type": "stream",
     "text": [
      "A\n"
     ]
    }
   ],
   "source": [
    "#26 WAP to check whether the given input character is uppercase or\n",
    "#lowercase. Ifthe input character is upper case convert into lower case and\n",
    "#vice versa.\n",
    "n='a'\n",
    "if'A'<=n<='Z':\n",
    "    print(chr(ord(n)+32))\n",
    "else:\n",
    "    print(chr(ord(n)-32))\n",
    "\n"
   ]
  },
  {
   "cell_type": "code",
   "execution_count": null,
   "metadata": {},
   "outputs": [
    {
     "name": "stdout",
     "output_type": "stream",
     "text": [
      "mom\n"
     ]
    }
   ],
   "source": [
    "#27. WAP to check whether a given string is less than 3 characters, to print the\n",
    "#entirestring otherwise to print after third positions to the remaining\n",
    "#string.\n",
    "n='mom'\n",
    "if len(n)<=3:\n",
    "    print(n)\n",
    "else:\n",
    "    print(n[3::])"
   ]
  },
  {
   "cell_type": "code",
   "execution_count": null,
   "metadata": {},
   "outputs": [
    {
     "name": "stdout",
     "output_type": "stream",
     "text": [
      "u d\n"
     ]
    }
   ],
   "source": [
    "#28 WAP to check whether a given length of the string is even or not. if\n",
    "#even, toappend the new string called \"bye\" or else print the first and last\n",
    "#characters.\n",
    "n=\"uhfcued\"\n",
    "if len(n)%2==0:\n",
    "    n+='bye'\n",
    "    print(n)\n",
    "else:\n",
    "    print(n[0],n[-1])\n",
    "\n"
   ]
  },
  {
   "cell_type": "code",
   "execution_count": null,
   "metadata": {},
   "outputs": [
    {
     "name": "stdout",
     "output_type": "stream",
     "text": [
      "bfgi\n"
     ]
    }
   ],
   "source": [
    "#29  WAP to check whether a given length of the string is odd or not. if odd, to \n",
    "#append the new string(\"Haii\") from the starting of the given string, or else \n",
    "#to avoid the starting character and ending character of the given\n",
    "#string and to display the remaining characters.\n",
    "n=\"rbfgin\"\n",
    "if len(n)%2!=0:\n",
    "    n += \"haii\"\n",
    "    print(n)\n",
    "else:\n",
    "    m=n[1:5:1]\n",
    "    print(m)\n"
   ]
  },
  {
   "cell_type": "code",
   "execution_count": null,
   "metadata": {},
   "outputs": [
    {
     "name": "stdout",
     "output_type": "stream",
     "text": [
      "\n"
     ]
    }
   ],
   "source": [
    "#30 WAP to check whether the last of the given string is a special character or \n",
    "#not, if the special character prints reverse the string except the last \n",
    "#character or else to check if the length of the string is odd or not, if odd to\n",
    "#extract the middle character to the end of the string.\n",
    "n=\"uhvuihe\"\n",
    "if n[-1] is not ('a'<=n<='z' or 'A'<=n<='z'or '0'<= n <='9'):\n",
    "    m=n[-2::-1]\n",
    "    print()\n",
    "elif:\n",
    "    if len(n)%2!=0:\n",
    "    print(n[len(n)//2:])\n"
   ]
  },
  {
   "cell_type": "code",
   "execution_count": null,
   "metadata": {},
   "outputs": [
    {
     "name": "stdout",
     "output_type": "stream",
     "text": [
      "not a leap year\n"
     ]
    }
   ],
   "source": [
    "#31 2. WAP to check whether a given year is a leap year or not. if leap year,\n",
    "#print leapyear or else not a leap year\n",
    "n=2001\n",
    "if n%4==0:\n",
    "    print(\"leap year\")\n",
    "else:\n",
    "    print(\"not a leap year\")"
   ]
  },
  {
   "cell_type": "code",
   "execution_count": null,
   "metadata": {},
   "outputs": [
    {
     "name": "stdout",
     "output_type": "stream",
     "text": [
      "value is available\n"
     ]
    }
   ],
   "source": [
    "#33 WAP to check whether the given value is present inside the given \n",
    "#collection ornot.if value is present, display the value is available or else \n",
    "#the value is not present\n",
    "n=231\n",
    "l=[12,213,231]\n",
    "if n in l:\n",
    "    print(\"value is available\")\n",
    "else:\n",
    "    print(\"value is not present\")"
   ]
  },
  {
   "cell_type": "code",
   "execution_count": null,
   "metadata": {},
   "outputs": [
    {
     "name": "stdout",
     "output_type": "stream",
     "text": [
      "wvjhh\n"
     ]
    }
   ],
   "source": [
    "#34 5. WAP whether a given string, if string length is more than 2, then it displays \n",
    "#a new string with the first and last characters switched, otherwise the \n",
    "#display the 3 copies of given string.\n",
    "n=\"hvjhw\"\n",
    "if len(n)>2:\n",
    "    n=n[-1]+n[1:4]+n[0]\n",
    "    print(n)\n",
    "else:\n",
    "    print(n*3)"
   ]
  },
  {
   "cell_type": "code",
   "execution_count": 195,
   "metadata": {},
   "outputs": [
    {
     "name": "stdout",
     "output_type": "stream",
     "text": [
      "[[7, 'uiri', 'huf', 24, -54]]\n"
     ]
    }
   ],
   "source": [
    "#35 6. WAP to check whether a given value is a list and first and last values \n",
    "#should beinteger if condition is satisfied first value is True division by 3\n",
    "#and perform the bitwise not for last value and those result values are\n",
    "#stored in same positions in given list or else, to perform length of the \n",
    "#collection power by 2 and display value.\n",
    "l=[23,\"uiri\",\"huf\",24,53]\n",
    "if type(l)==list and type(l[0])==int and type(l[0])==int:\n",
    "    p= l[0]//3 \n",
    "    m=~(l[-1])\n",
    "    s=[[p] + l[1:len(l)-1:] + [m]]\n",
    "    print(s)\n",
    "else:\n",
    "    print(len(l)**2)"
   ]
  },
  {
   "cell_type": "code",
   "execution_count": 197,
   "metadata": {},
   "outputs": [
    {
     "name": "stdout",
     "output_type": "stream",
     "text": [
      "ueygf not itdda\n"
     ]
    }
   ],
   "source": [
    "#367. WAP to check whether a given value is a string or not and length of the \n",
    "#value should be more than 7, if condition is satisfied to append the new \n",
    "#string in the middle of the given string or else to perform the replications \n",
    "#with 3 and display the result\n",
    "n=\"ueygfitdda\"\n",
    "if type(n)==str and len(n)>7:\n",
    "    n=n[0:len(n)//2]+\" not \"+n[len(n)//2:]\n",
    "    print(n)\n",
    "else:\n",
    "    print(n*3)"
   ]
  },
  {
   "cell_type": "code",
   "execution_count": 214,
   "metadata": {},
   "outputs": [
    {
     "name": "stdout",
     "output_type": "stream",
     "text": [
      "fcbauwof\n"
     ]
    }
   ],
   "source": [
    "#37 . 8. WAP to check if the given string of first and second character should be \n",
    "#sequence or not. if the sequence prints the first, second and last two\n",
    "#characters, or else thefirst half string is reversed and the remaining half \n",
    "#string should be normal anddisplay it.\n",
    "n=\"abcfuwof\"\n",
    "if ord(n[0])==ord(n[1])+1:\n",
    "    n=n[0:2]+n[len(n)-2:]\n",
    "    print(n)\n",
    "else:\n",
    "    n=n[0:len(n)//2][::-1]+n[len(n)//2:]\n",
    "    print(n)"
   ]
  },
  {
   "cell_type": "code",
   "execution_count": 215,
   "metadata": {},
   "outputs": [
    {
     "name": "stdout",
     "output_type": "stream",
     "text": [
      "present\n"
     ]
    }
   ],
   "source": [
    "#38 . WAP to check whether a given value is present inside the collection or\n",
    "#not. Ifpresent, print the value or else print value is not found.\n",
    "n=45\n",
    "l=[45,23,53]\n",
    "if n in l:\n",
    "    print(\"present\")\n",
    "else:\n",
    "    print(\"not found\")\n",
    "    "
   ]
  },
  {
   "cell_type": "code",
   "execution_count": 219,
   "metadata": {},
   "outputs": [
    {
     "name": "stdout",
     "output_type": "stream",
     "text": [
      "{'k': 23, 'b': 43, 'd': 2334}\n"
     ]
    }
   ],
   "source": [
    "#39 WAP to check whether a given key is present in the dict or not. if key is\n",
    "#present:display the value or else add key and new value inside the dict.\n",
    "d={\"a\":23,'b':43}\n",
    "n=\"a\"\n",
    "if 'a' in d:\n",
    "    print(d['a'])\n",
    "else:\n",
    "    d|={\"d\":2334}\n",
    "    print(d)\n"
   ]
  },
  {
   "cell_type": "code",
   "execution_count": null,
   "metadata": {},
   "outputs": [
    {
     "name": "stdout",
     "output_type": "stream",
     "text": [
      "{34, 2324, 23, 12, 46}\n"
     ]
    }
   ],
   "source": [
    "#40 1. WAP to check whether a given collection is set or not. if set, append the \n",
    "#new value, or else eliminate the duplicate values in collection. final\n",
    "#results should beset type\n",
    "s={12,34,34,46,23}\n",
    "if type(s)==set:\n",
    "    s|={2324}\n",
    "    print(s)\n",
    "else:\n",
    "    print(set(s))\n"
   ]
  },
  {
   "cell_type": "code",
   "execution_count": 2,
   "metadata": {},
   "outputs": [
    {
     "name": "stdout",
     "output_type": "stream",
     "text": [
      "eligible\n"
     ]
    }
   ],
   "source": [
    "#41 WAP to read the age of a candidate and determine whether it is eligible \n",
    "#for his/her own vote or not.it eligible print age and eligible messages or \n",
    "#else printnot eligible.\n",
    "\n",
    "\n",
    "age=19\n",
    "if age > 18:\n",
    "    print(\"eligible\")\n",
    "else:\n",
    "    print('not eligible')"
   ]
  },
  {
   "cell_type": "code",
   "execution_count": 4,
   "metadata": {},
   "outputs": [
    {
     "name": "stdout",
     "output_type": "stream",
     "text": [
      "8\n"
     ]
    }
   ],
   "source": [
    "#42 WAP to check whether a given value is even and in between 47 to 58 and\n",
    "#not in0 or odd. if condition is True, to perform display the ascii character \n",
    "#or else to perform floor division with 5 and display it\n",
    "\n",
    "n=56\n",
    "if n%2==0 and 47<=n<=58 and n not in [0 or n%2!=0]:\n",
    "    print(chr(n))\n",
    "else:\n",
    "    print(n//5)"
   ]
  },
  {
   "cell_type": "code",
   "execution_count": 7,
   "metadata": {},
   "outputs": [
    {
     "name": "stdout",
     "output_type": "stream",
     "text": [
      "palindrome mom\n"
     ]
    }
   ],
   "source": [
    "#43 WAP to check whether the given string is palindrome or not if it is a \n",
    "#palindrome string palindrome along with the string if it is not a\n",
    "#palindrome print not palindrome\n",
    "n= \"mom\"\n",
    "if n == n[::-1]:\n",
    "    print(\"palindrome\",n)\n",
    "else:\n",
    "    print(\"not a palindrome\")\n"
   ]
  },
  {
   "cell_type": "code",
   "execution_count": null,
   "metadata": {},
   "outputs": [],
   "source": [
    "#44 WAP to check whether a given number is palindrome or not. If\n",
    "#palindrome,display the given value as a palindrome or else not a\n",
    "#palindrome\n",
    "\n",
    "n= \"mom\"\n",
    "if n == n[::-1]:\n",
    "    print(\"palindrome\",n)\n",
    "else:\n",
    "    print(\"not a palindrome\")\n"
   ]
  },
  {
   "cell_type": "code",
   "execution_count": 12,
   "metadata": {},
   "outputs": [
    {
     "name": "stdout",
     "output_type": "stream",
     "text": [
      "neucindbda\n"
     ]
    }
   ],
   "source": [
    "#45 WAP to check length of both string collections are equal or not. if both\n",
    "#are equalprint the concat the two strings and display, or else if any one \n",
    "#of the collectionnot equal print both the collections with lengths\n",
    "\n",
    "n = \"ndbda\"\n",
    "m= \"neuci\"\n",
    "if len(n)==len(m):\n",
    "    o=m + n\n",
    "    print(o)\n",
    "else: \n",
    "    print(len(n),len(m))\n"
   ]
  },
  {
   "cell_type": "code",
   "execution_count": 18,
   "metadata": {},
   "outputs": [
    {
     "name": "stdout",
     "output_type": "stream",
     "text": [
      "20 40\n"
     ]
    }
   ],
   "source": [
    "#46WAP to check whether both given values point to the same memory \n",
    "#location or not. if it is true print the middle item of the second collection, or \n",
    "#else if it is false print the first item and last item of the first collection along \n",
    "#with the memory address\n",
    "a = [20,30,40]\n",
    "b = [20,35,49]\n",
    "if id(a)==id(b):\n",
    "    print([len(b)//2])\n",
    "else:\n",
    "    print(a[0],a[-1])"
   ]
  },
  {
   "cell_type": "code",
   "execution_count": 21,
   "metadata": {},
   "outputs": [
    {
     "name": "stdout",
     "output_type": "stream",
     "text": [
      "hbgcuyjcebnfhbgcuyjcebnfhbgcuyjcebnf\n"
     ]
    }
   ],
   "source": [
    "#47WAP to check whether a given string collection is more than ten, and the\n",
    "#first + last character of the ascii values should be divisible by 5, if\n",
    "#condition is satisfiedprint first, middle, last characters ASCII values or \n",
    "#else print the string three times\n",
    "st = \"hbgcuyjcebnf\"\n",
    "if len(st)>10 and ord(st[0])%5==0 and ord(st[-1]%5==0):\n",
    "    print(ord(st[0]) , ord(st[len(st)//2] , ord(st[-1])))\n",
    "else:\n",
    "    print(st*3)"
   ]
  },
  {
   "cell_type": "code",
   "execution_count": 22,
   "metadata": {},
   "outputs": [
    {
     "name": "stdout",
     "output_type": "stream",
     "text": [
      "[43, 24, 'dgrv', 35, 21]\n"
     ]
    }
   ],
   "source": [
    "#48WAP to check whether the middle of the item present in the list is string \n",
    "#data type or not if it is string print that list or else if it is not string then \n",
    "#print that middle item\n",
    "l =[43,24,\"dgrv\",35,21]\n",
    "if type(l[len(l)//2]) == str:\n",
    "    print(l)\n",
    "else :\n",
    "    print(l[len(l)//2])"
   ]
  },
  {
   "cell_type": "code",
   "execution_count": null,
   "metadata": {},
   "outputs": [],
   "source": [
    "#49WAP Given a string, return a new string where the first and last\n",
    "#characters havebeen exchanged.\n"
   ]
  },
  {
   "cell_type": "code",
   "execution_count": null,
   "metadata": {},
   "outputs": [],
   "source": [
    "#50Write a program to find out such numbers which are divisible by 7 but are \n",
    "#not a multiple of 5. Both the conditional is satisfied and print actual value.\n",
    "#if one condition is not satisfied actual number is multiply by 4 and print\n",
    "#result\n",
    "\n",
    "n= 42446\n",
    "if \n",
    "\n"
   ]
  },
  {
   "cell_type": "code",
   "execution_count": 23,
   "metadata": {},
   "outputs": [
    {
     "name": "stdout",
     "output_type": "stream",
     "text": [
      "3052927910736\n"
     ]
    }
   ],
   "source": [
    "#51 WAP to check whether two values are pointing to the same memory \n",
    "#address or not. If the same memory displays the address or else displays \n",
    "#the two values addresses.\n",
    "a = 20\n",
    "b = 20\n",
    "if id(a)==id(b):\n",
    "    print(id(a))\n",
    "else:\n",
    "    print(id(a),id(b))\n"
   ]
  },
  {
   "cell_type": "code",
   "execution_count": 25,
   "metadata": {},
   "outputs": [
    {
     "name": "stdout",
     "output_type": "stream",
     "text": [
      "$$$\n"
     ]
    }
   ],
   "source": [
    "#52 WAP to check whether a given input character is a special symbol or not if \n",
    "#it is a special symbol then print that character three times and tell print \n",
    "#that character 5 times\n",
    "n=\"$\"\n",
    "if n is not ('a'<=n<='z' or 'A'<=n<='z'or '0'<= n <='9'):\n",
    "    \n",
    "    print( n*3)\n",
    "else:\n",
    "    \n",
    "    print(n*5)\n"
   ]
  },
  {
   "cell_type": "code",
   "execution_count": 26,
   "metadata": {},
   "outputs": [
    {
     "name": "stdout",
     "output_type": "stream",
     "text": [
      "ndbda\n"
     ]
    }
   ],
   "source": [
    "#53 WAP to check length of both string collections equal or not if it is equal\n",
    "#print theconnection of any one of the collections if it is not equal print\n",
    "#both the collection\n",
    "n = \"ndbda\"\n",
    "m= \"neuci\"\n",
    "if len(n)==len(m):\n",
    "    \n",
    "    print(n)\n",
    "else: \n",
    "    print(n,m)"
   ]
  },
  {
   "cell_type": "code",
   "execution_count": 27,
   "metadata": {},
   "outputs": [
    {
     "name": "stdout",
     "output_type": "stream",
     "text": [
      "20 3053029590400\n"
     ]
    }
   ],
   "source": [
    "#54 WAP To check whether both input variables point to the same memory \n",
    "#location or not if it is true print the last item of the second collection, if it is \n",
    "#false print the first item of the first collection along with the memory\n",
    "#address\n",
    "\n",
    "a = [20,30,40]\n",
    "b = [20,35,49]\n",
    "if id(a)==id(b):\n",
    "    print(b[-1])\n",
    "else:\n",
    "    print(a[0] , id(a))"
   ]
  },
  {
   "cell_type": "code",
   "execution_count": 37,
   "metadata": {},
   "outputs": [
    {
     "name": "stdout",
     "output_type": "stream",
     "text": [
      "t\n"
     ]
    }
   ],
   "source": [
    "#55WAP to print the string collection five times when the length of the \n",
    "#string collection should be more than 3 and the middle character of the \n",
    "#string shouldbe vowel and the first character ASCII value should be even, \n",
    "#to print the previous character of middle character, or else if ASCII value\n",
    "#is odd then print the stringthree times as print that string\n",
    "n =\"tbbuufsd\"\n",
    "if len(n)>3 and n[len(n)//2] in \"aeiouAEIOU\" and ord(n[0])%2==0:\n",
    "    m=chr(ord(n[len(n)//2])-1)\n",
    "    print(m)\n",
    "else:\n",
    "    print(n*3)"
   ]
  },
  {
   "cell_type": "code",
   "execution_count": null,
   "metadata": {},
   "outputs": [],
   "source": [
    "#56Ravi would like to buy a new cello or red pen. The cost of the pen should\n",
    "#be 10.If the pen is available in the shop, he will buy the pen. If it is not \n",
    "#there he will come out of the shop.\n",
    "\n"
   ]
  },
  {
   "cell_type": "code",
   "execution_count": 39,
   "metadata": {},
   "outputs": [
    {
     "name": "stdout",
     "output_type": "stream",
     "text": [
      "-3\n"
     ]
    }
   ],
   "source": [
    "#57WAP to perform addition and subtraction operation by using list collection \n",
    "#if the first and middle data items number are even performing addition\n",
    "#operation, orelse performing subtraction.\n",
    "l=[12,34,576,24,15]\n",
    "if l[0]%2==0 and l[len(n)//2]%2==0:\n",
    "    print(l[0]+l[len(n)//2])\n",
    "else:\n",
    "    print(l[0]-l[len(n)//2])"
   ]
  },
  {
   "cell_type": "code",
   "execution_count": 43,
   "metadata": {},
   "outputs": [
    {
     "name": "stdout",
     "output_type": "stream",
     "text": [
      "[12, 34, 56, 'hdjhx', 13, 'csvr', 'fcAEAS']\n"
     ]
    }
   ],
   "source": [
    "#58WAP to check whether the first item of these two lists is either integer\n",
    "#or not.If it is an integer, concatenate these two lists or else print the\n",
    "#memoryaddress of these two lists\n",
    "l=[12,34,56,\"hdjhx\"]\n",
    "m=[13,\"csvr\",\"fcAEAS\"]\n",
    "if type(l[0])==int and type(m[0])==int:\n",
    "    print(l+m)\n",
    "else:\n",
    "    print(id(l),id(m))"
   ]
  }
 ],
 "metadata": {
  "kernelspec": {
   "display_name": "Python 3",
   "language": "python",
   "name": "python3"
  },
  "language_info": {
   "codemirror_mode": {
    "name": "ipython",
    "version": 3
   },
   "file_extension": ".py",
   "mimetype": "text/x-python",
   "name": "python",
   "nbconvert_exporter": "python",
   "pygments_lexer": "ipython3",
   "version": "3.10.6"
  },
  "orig_nbformat": 4
 },
 "nbformat": 4,
 "nbformat_minor": 2
}
