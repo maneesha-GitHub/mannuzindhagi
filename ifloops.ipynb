{
 "cells": [
  {
   "cell_type": "code",
   "execution_count": null,
   "metadata": {},
   "outputs": [],
   "source": [
    "#1. wap to check whether a number is positive. if positive , print positive\n",
    "n=12\n",
    "if n>0:\n",
    "    print(\"positive\")"
   ]
  }
 ],
 "metadata": {
  "language_info": {
   "name": "python"
  },
  "orig_nbformat": 4
 },
 "nbformat": 4,
 "nbformat_minor": 2
}
